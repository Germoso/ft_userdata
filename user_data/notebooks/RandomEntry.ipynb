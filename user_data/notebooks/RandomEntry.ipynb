{
 "cells": [
  {
   "cell_type": "code",
   "execution_count": 14,
   "id": "2b23cf26-f3de-4528-b1d0-f71ae017ee5d",
   "metadata": {},
   "outputs": [
    {
     "name": "stdout",
     "output_type": "stream",
     "text": [
      "/freqtrade\n"
     ]
    }
   ],
   "source": [
    "import os\n",
    "from pathlib import Path\n",
    "\n",
    "# Change directory\n",
    "# Modify this cell to insure that the output shows the correct path.\n",
    "# Define all paths relative to the project root shown in the cell output\n",
    "project_root = \"/home/sscf/freqtrade\"\n",
    "i=0\n",
    "try:\n",
    "    os.chdirdir(project_root)\n",
    "    assert Path('LICENSE').is_file()\n",
    "except:\n",
    "    while i<4 and (not Path('LICENSE').is_file()):\n",
    "        os.chdir(Path(Path.cwd(), '../'))\n",
    "        i+=1\n",
    "    project_root = Path.cwd()\n",
    "print(Path.cwd())"
   ]
  },
  {
   "cell_type": "code",
   "execution_count": 15,
   "id": "876a8f01-9f05-4fe3-92cb-f9a6fafeb3d0",
   "metadata": {},
   "outputs": [],
   "source": [
    "import numpy as np\n",
    "import pandas as pd"
   ]
  },
  {
   "cell_type": "code",
   "execution_count": 29,
   "id": "16040ef5-5f7c-44a0-b909-c5495a87d8b2",
   "metadata": {},
   "outputs": [
    {
     "data": {
      "text/html": [
       "<pre style=\"white-space:pre;overflow-x:auto;line-height:normal;font-family:Menlo,'DejaVu Sans Mono',consolas,'Courier New',monospace\">2025-06-08 13:20:29,869<span style=\"color: #767676; text-decoration-color: #767676\"> - </span><span style=\"color: #d787ff; text-decoration-color: #d787ff\">freqtrade.configuration.load_config</span><span style=\"color: #767676; text-decoration-color: #767676\"> - </span><span style=\"color: #000080; text-decoration-color: #000080\">INFO</span><span style=\"color: #767676; text-decoration-color: #767676\"> - </span>Using config: user_data/config.json ...\n",
       "</pre>\n"
      ],
      "text/plain": [
       "2025-06-08 13:20:29,869\u001b[38;5;243m - \u001b[0m\u001b[38;5;177mfreqtrade.configuration.load_config\u001b[0m\u001b[38;5;243m - \u001b[0m\u001b[34mINFO\u001b[0m\u001b[38;5;243m - \u001b[0mUsing config: user_data/config.json ...\n"
      ]
     },
     "metadata": {},
     "output_type": "display_data"
    },
    {
     "data": {
      "text/html": [
       "<pre style=\"white-space:pre;overflow-x:auto;line-height:normal;font-family:Menlo,'DejaVu Sans Mono',consolas,'Courier New',monospace\">2025-06-08 13:20:30,096<span style=\"color: #767676; text-decoration-color: #767676\"> - </span><span style=\"color: #d787ff; text-decoration-color: #d787ff\">freqtrade.loggers</span><span style=\"color: #767676; text-decoration-color: #767676\"> - </span><span style=\"color: #000080; text-decoration-color: #000080\">INFO</span><span style=\"color: #767676; text-decoration-color: #767676\"> - </span>Enabling colorized output.\n",
       "</pre>\n"
      ],
      "text/plain": [
       "2025-06-08 13:20:30,096\u001b[38;5;243m - \u001b[0m\u001b[38;5;177mfreqtrade.loggers\u001b[0m\u001b[38;5;243m - \u001b[0m\u001b[34mINFO\u001b[0m\u001b[38;5;243m - \u001b[0mEnabling colorized output.\n"
      ]
     },
     "metadata": {},
     "output_type": "display_data"
    },
    {
     "data": {
      "text/html": [
       "<pre style=\"white-space:pre;overflow-x:auto;line-height:normal;font-family:Menlo,'DejaVu Sans Mono',consolas,'Courier New',monospace\">2025-06-08 13:20:30,100<span style=\"color: #767676; text-decoration-color: #767676\"> - </span><span style=\"color: #d787ff; text-decoration-color: #d787ff\">root</span><span style=\"color: #767676; text-decoration-color: #767676\"> - </span><span style=\"color: #000080; text-decoration-color: #000080\">INFO</span><span style=\"color: #767676; text-decoration-color: #767676\"> - </span>Logfile configured\n",
       "</pre>\n"
      ],
      "text/plain": [
       "2025-06-08 13:20:30,100\u001b[38;5;243m - \u001b[0m\u001b[38;5;177mroot\u001b[0m\u001b[38;5;243m - \u001b[0m\u001b[34mINFO\u001b[0m\u001b[38;5;243m - \u001b[0mLogfile configured\n"
      ]
     },
     "metadata": {},
     "output_type": "display_data"
    },
    {
     "data": {
      "text/html": [
       "<pre style=\"white-space:pre;overflow-x:auto;line-height:normal;font-family:Menlo,'DejaVu Sans Mono',consolas,'Courier New',monospace\">2025-06-08 13:20:30,118<span style=\"color: #767676; text-decoration-color: #767676\"> - </span><span style=\"color: #d787ff; text-decoration-color: #d787ff\">freqtrade.loggers</span><span style=\"color: #767676; text-decoration-color: #767676\"> - </span><span style=\"color: #000080; text-decoration-color: #000080\">INFO</span><span style=\"color: #767676; text-decoration-color: #767676\"> - </span>Verbosity set to 0\n",
       "</pre>\n"
      ],
      "text/plain": [
       "2025-06-08 13:20:30,118\u001b[38;5;243m - \u001b[0m\u001b[38;5;177mfreqtrade.loggers\u001b[0m\u001b[38;5;243m - \u001b[0m\u001b[34mINFO\u001b[0m\u001b[38;5;243m - \u001b[0mVerbosity set to 0\n"
      ]
     },
     "metadata": {},
     "output_type": "display_data"
    },
    {
     "data": {
      "text/html": [
       "<pre style=\"white-space:pre;overflow-x:auto;line-height:normal;font-family:Menlo,'DejaVu Sans Mono',consolas,'Courier New',monospace\">2025-06-08 13:20:30,476<span style=\"color: #767676; text-decoration-color: #767676\"> - </span><span style=\"color: #d787ff; text-decoration-color: #d787ff\">freqtrade.configuration.configuration</span><span style=\"color: #767676; text-decoration-color: #767676\"> - </span><span style=\"color: #000080; text-decoration-color: #000080\">INFO</span><span style=\"color: #767676; text-decoration-color: #767676\"> - </span>Using user-data directory: /freqtrade/user_data ...\n",
       "</pre>\n"
      ],
      "text/plain": [
       "2025-06-08 13:20:30,476\u001b[38;5;243m - \u001b[0m\u001b[38;5;177mfreqtrade.configuration.configuration\u001b[0m\u001b[38;5;243m - \u001b[0m\u001b[34mINFO\u001b[0m\u001b[38;5;243m - \u001b[0mUsing user-data directory: /freqtrade/user_data ...\n"
      ]
     },
     "metadata": {},
     "output_type": "display_data"
    },
    {
     "data": {
      "text/html": [
       "<pre style=\"white-space:pre;overflow-x:auto;line-height:normal;font-family:Menlo,'DejaVu Sans Mono',consolas,'Courier New',monospace\">2025-06-08 13:20:30,480<span style=\"color: #767676; text-decoration-color: #767676\"> - </span><span style=\"color: #d787ff; text-decoration-color: #d787ff\">freqtrade.configuration.configuration</span><span style=\"color: #767676; text-decoration-color: #767676\"> - </span><span style=\"color: #000080; text-decoration-color: #000080\">INFO</span><span style=\"color: #767676; text-decoration-color: #767676\"> - </span>Using data directory: /freqtrade/user_data/data/binance ...\n",
       "</pre>\n"
      ],
      "text/plain": [
       "2025-06-08 13:20:30,480\u001b[38;5;243m - \u001b[0m\u001b[38;5;177mfreqtrade.configuration.configuration\u001b[0m\u001b[38;5;243m - \u001b[0m\u001b[34mINFO\u001b[0m\u001b[38;5;243m - \u001b[0mUsing data directory: /freqtrade/user_data/data/binance ...\n"
      ]
     },
     "metadata": {},
     "output_type": "display_data"
    },
    {
     "data": {
      "text/html": [
       "<pre style=\"white-space:pre;overflow-x:auto;line-height:normal;font-family:Menlo,'DejaVu Sans Mono',consolas,'Courier New',monospace\">2025-06-08 13:20:30,482<span style=\"color: #767676; text-decoration-color: #767676\"> - </span><span style=\"color: #d787ff; text-decoration-color: #d787ff\">freqtrade.exchange.check_exchange</span><span style=\"color: #767676; text-decoration-color: #767676\"> - </span><span style=\"color: #000080; text-decoration-color: #000080\">INFO</span><span style=\"color: #767676; text-decoration-color: #767676\"> - </span>Checking exchange...\n",
       "</pre>\n"
      ],
      "text/plain": [
       "2025-06-08 13:20:30,482\u001b[38;5;243m - \u001b[0m\u001b[38;5;177mfreqtrade.exchange.check_exchange\u001b[0m\u001b[38;5;243m - \u001b[0m\u001b[34mINFO\u001b[0m\u001b[38;5;243m - \u001b[0mChecking exchange...\n"
      ]
     },
     "metadata": {},
     "output_type": "display_data"
    },
    {
     "data": {
      "text/html": [
       "<pre style=\"white-space:pre;overflow-x:auto;line-height:normal;font-family:Menlo,'DejaVu Sans Mono',consolas,'Courier New',monospace\">2025-06-08 13:20:30,524<span style=\"color: #767676; text-decoration-color: #767676\"> - </span><span style=\"color: #d787ff; text-decoration-color: #d787ff\">freqtrade.exchange.check_exchange</span><span style=\"color: #767676; text-decoration-color: #767676\"> - </span><span style=\"color: #000080; text-decoration-color: #000080\">INFO</span><span style=\"color: #767676; text-decoration-color: #767676\"> - </span>Exchange \"binance\" is officially supported by the Freqtrade development team.\n",
       "</pre>\n"
      ],
      "text/plain": [
       "2025-06-08 13:20:30,524\u001b[38;5;243m - \u001b[0m\u001b[38;5;177mfreqtrade.exchange.check_exchange\u001b[0m\u001b[38;5;243m - \u001b[0m\u001b[34mINFO\u001b[0m\u001b[38;5;243m - \u001b[0mExchange \"binance\" is officially supported by the Freqtrade development team.\n"
      ]
     },
     "metadata": {},
     "output_type": "display_data"
    },
    {
     "data": {
      "text/html": [
       "<pre style=\"white-space:pre;overflow-x:auto;line-height:normal;font-family:Menlo,'DejaVu Sans Mono',consolas,'Courier New',monospace\">2025-06-08 13:20:30,527<span style=\"color: #767676; text-decoration-color: #767676\"> - </span><span style=\"color: #d787ff; text-decoration-color: #d787ff\">freqtrade.configuration.configuration</span><span style=\"color: #767676; text-decoration-color: #767676\"> - </span><span style=\"color: #000080; text-decoration-color: #000080\">INFO</span><span style=\"color: #767676; text-decoration-color: #767676\"> - </span>Using pairlist from configuration.\n",
       "</pre>\n"
      ],
      "text/plain": [
       "2025-06-08 13:20:30,527\u001b[38;5;243m - \u001b[0m\u001b[38;5;177mfreqtrade.configuration.configuration\u001b[0m\u001b[38;5;243m - \u001b[0m\u001b[34mINFO\u001b[0m\u001b[38;5;243m - \u001b[0mUsing pairlist from configuration.\n"
      ]
     },
     "metadata": {},
     "output_type": "display_data"
    }
   ],
   "source": [
    "from freqtrade.configuration import Configuration\n",
    "\n",
    "\n",
    "# Customize these according to your needs.\n",
    "\n",
    "# Initialize empty configuration object\n",
    "# Optionally (recommended), use existing configuration file\n",
    "config = Configuration.from_files([\"user_data/config.json\"])\n",
    "\n",
    "# Define some constants\n",
    "config[\"timeframe\"] = \"5m\"\n",
    "# Name of the strategy class\n",
    "config[\"strategy\"] = \"RandomEntry\"\n",
    "# Location of the data\n",
    "data_location = config[\"datadir\"]\n",
    "# Pair to analyze - Only use one pair here\n",
    "pair = \"MELANIA/USDT:USDT\""
   ]
  },
  {
   "cell_type": "code",
   "execution_count": 23,
   "id": "0034dc7a-24c1-4b9d-ad6c-390f683ec1ea",
   "metadata": {},
   "outputs": [
    {
     "name": "stdout",
     "output_type": "stream",
     "text": [
      "Encontrado: /freqtrade/user_data/data/binance/futures/MELANIA_USDT_USDT-5m-futures.feather\n",
      "Encontrado: /freqtrade/user_data/data/binance/futures/MELANIA_USDT_USDT-8h-funding_rate.feather\n",
      "Encontrado: /freqtrade/user_data/data/binance/futures/MELANIA_USDT_USDT-8h-mark.feather\n"
     ]
    }
   ],
   "source": [
    "# Encuentra archivos que contengan \"MELANIA\"\n",
    "import os\n",
    "for root, dirs, files in os.walk(data_location):\n",
    "    for file in files:\n",
    "        if \"MELANIA\" in file.upper():\n",
    "            print(f\"Encontrado: {os.path.join(root, file)}\")"
   ]
  },
  {
   "cell_type": "code",
   "execution_count": 24,
   "id": "ca3ee9f1-84fb-4d6e-8cb1-74bc3d87e3f6",
   "metadata": {},
   "outputs": [
    {
     "name": "stdout",
     "output_type": "stream",
     "text": [
      "Loaded 37902 rows of data for MELANIA/USDT:USDT from /freqtrade/user_data/data/binance\n"
     ]
    },
    {
     "data": {
      "text/html": [
       "<div>\n",
       "<style scoped>\n",
       "    .dataframe tbody tr th:only-of-type {\n",
       "        vertical-align: middle;\n",
       "    }\n",
       "\n",
       "    .dataframe tbody tr th {\n",
       "        vertical-align: top;\n",
       "    }\n",
       "\n",
       "    .dataframe thead th {\n",
       "        text-align: right;\n",
       "    }\n",
       "</style>\n",
       "<table border=\"1\" class=\"dataframe\">\n",
       "  <thead>\n",
       "    <tr style=\"text-align: right;\">\n",
       "      <th></th>\n",
       "      <th>date</th>\n",
       "      <th>open</th>\n",
       "      <th>high</th>\n",
       "      <th>low</th>\n",
       "      <th>close</th>\n",
       "      <th>volume</th>\n",
       "    </tr>\n",
       "  </thead>\n",
       "  <tbody>\n",
       "    <tr>\n",
       "      <th>0</th>\n",
       "      <td>2025-01-20 09:30:00+00:00</td>\n",
       "      <td>11.000</td>\n",
       "      <td>11.377</td>\n",
       "      <td>9.570</td>\n",
       "      <td>10.671</td>\n",
       "      <td>3170927.05</td>\n",
       "    </tr>\n",
       "    <tr>\n",
       "      <th>1</th>\n",
       "      <td>2025-01-20 09:35:00+00:00</td>\n",
       "      <td>10.680</td>\n",
       "      <td>11.126</td>\n",
       "      <td>10.248</td>\n",
       "      <td>10.877</td>\n",
       "      <td>1890644.05</td>\n",
       "    </tr>\n",
       "    <tr>\n",
       "      <th>2</th>\n",
       "      <td>2025-01-20 09:40:00+00:00</td>\n",
       "      <td>10.882</td>\n",
       "      <td>11.310</td>\n",
       "      <td>10.802</td>\n",
       "      <td>11.198</td>\n",
       "      <td>1415396.91</td>\n",
       "    </tr>\n",
       "    <tr>\n",
       "      <th>3</th>\n",
       "      <td>2025-01-20 09:45:00+00:00</td>\n",
       "      <td>11.198</td>\n",
       "      <td>11.481</td>\n",
       "      <td>10.800</td>\n",
       "      <td>11.053</td>\n",
       "      <td>1628204.05</td>\n",
       "    </tr>\n",
       "    <tr>\n",
       "      <th>4</th>\n",
       "      <td>2025-01-20 09:50:00+00:00</td>\n",
       "      <td>11.053</td>\n",
       "      <td>11.137</td>\n",
       "      <td>10.301</td>\n",
       "      <td>10.502</td>\n",
       "      <td>1799539.90</td>\n",
       "    </tr>\n",
       "  </tbody>\n",
       "</table>\n",
       "</div>"
      ],
      "text/plain": [
       "                       date    open    high     low   close      volume\n",
       "0 2025-01-20 09:30:00+00:00  11.000  11.377   9.570  10.671  3170927.05\n",
       "1 2025-01-20 09:35:00+00:00  10.680  11.126  10.248  10.877  1890644.05\n",
       "2 2025-01-20 09:40:00+00:00  10.882  11.310  10.802  11.198  1415396.91\n",
       "3 2025-01-20 09:45:00+00:00  11.198  11.481  10.800  11.053  1628204.05\n",
       "4 2025-01-20 09:50:00+00:00  11.053  11.137  10.301  10.502  1799539.90"
      ]
     },
     "execution_count": 24,
     "metadata": {},
     "output_type": "execute_result"
    }
   ],
   "source": [
    "# Load data using values set above\n",
    "from freqtrade.data.history import load_pair_history\n",
    "from freqtrade.enums import CandleType\n",
    "\n",
    "\n",
    "data_location = Path(config['user_data_dir'], 'data', 'binance')\n",
    "\n",
    "candles = load_pair_history(\n",
    "    datadir=data_location,\n",
    "    timeframe=config[\"timeframe\"],\n",
    "    pair=pair,\n",
    "    data_format=\"feather\",  # Make sure to update this to your data\n",
    "    candle_type=CandleType.FUTURES,\n",
    ")\n",
    "\n",
    "# Confirm success\n",
    "print(f\"Loaded {len(candles)} rows of data for {pair} from {data_location}\")\n",
    "candles.head()"
   ]
  },
  {
   "cell_type": "code",
   "execution_count": 30,
   "id": "5f94d95f-7402-40a5-a7d0-36d159a463d7",
   "metadata": {},
   "outputs": [
    {
     "data": {
      "text/html": [
       "<pre style=\"white-space:pre;overflow-x:auto;line-height:normal;font-family:Menlo,'DejaVu Sans Mono',consolas,'Courier New',monospace\">2025-06-08 13:20:33,340<span style=\"color: #767676; text-decoration-color: #767676\"> - </span><span style=\"color: #d787ff; text-decoration-color: #d787ff\">freqtrade.resolvers.iresolver</span><span style=\"color: #767676; text-decoration-color: #767676\"> - </span><span style=\"color: #000080; text-decoration-color: #000080\">INFO</span><span style=\"color: #767676; text-decoration-color: #767676\"> - </span>Using resolved strategy RandomEntry from '/freqtrade/user_data/strategies/RandomEntry.py'...\n",
       "</pre>\n"
      ],
      "text/plain": [
       "2025-06-08 13:20:33,340\u001b[38;5;243m - \u001b[0m\u001b[38;5;177mfreqtrade.resolvers.iresolver\u001b[0m\u001b[38;5;243m - \u001b[0m\u001b[34mINFO\u001b[0m\u001b[38;5;243m - \u001b[0mUsing resolved strategy RandomEntry from '/freqtrade/user_data/strategies/RandomEntry.py'...\n"
      ]
     },
     "metadata": {},
     "output_type": "display_data"
    },
    {
     "data": {
      "text/html": [
       "<pre style=\"white-space:pre;overflow-x:auto;line-height:normal;font-family:Menlo,'DejaVu Sans Mono',consolas,'Courier New',monospace\">2025-06-08 13:20:33,346<span style=\"color: #767676; text-decoration-color: #767676\"> - </span><span style=\"color: #d787ff; text-decoration-color: #d787ff\">freqtrade.strategy.hyper</span><span style=\"color: #767676; text-decoration-color: #767676\"> - </span><span style=\"color: #000080; text-decoration-color: #000080\">INFO</span><span style=\"color: #767676; text-decoration-color: #767676\"> - </span>Found no parameter file.\n",
       "</pre>\n"
      ],
      "text/plain": [
       "2025-06-08 13:20:33,346\u001b[38;5;243m - \u001b[0m\u001b[38;5;177mfreqtrade.strategy.hyper\u001b[0m\u001b[38;5;243m - \u001b[0m\u001b[34mINFO\u001b[0m\u001b[38;5;243m - \u001b[0mFound no parameter file.\n"
      ]
     },
     "metadata": {},
     "output_type": "display_data"
    },
    {
     "data": {
      "text/html": [
       "<pre style=\"white-space:pre;overflow-x:auto;line-height:normal;font-family:Menlo,'DejaVu Sans Mono',consolas,'Courier New',monospace\">2025-06-08 13:20:33,350<span style=\"color: #767676; text-decoration-color: #767676\"> - </span><span style=\"color: #d787ff; text-decoration-color: #d787ff\">freqtrade.resolvers.strategy_resolver</span><span style=\"color: #767676; text-decoration-color: #767676\"> - </span><span style=\"color: #000080; text-decoration-color: #000080\">INFO</span><span style=\"color: #767676; text-decoration-color: #767676\"> - </span>Override strategy 'timeframe' with value in config file: 5m.\n",
       "</pre>\n"
      ],
      "text/plain": [
       "2025-06-08 13:20:33,350\u001b[38;5;243m - \u001b[0m\u001b[38;5;177mfreqtrade.resolvers.strategy_resolver\u001b[0m\u001b[38;5;243m - \u001b[0m\u001b[34mINFO\u001b[0m\u001b[38;5;243m - \u001b[0mOverride strategy 'timeframe' with value in config file: 5m.\n"
      ]
     },
     "metadata": {},
     "output_type": "display_data"
    },
    {
     "data": {
      "text/html": [
       "<pre style=\"white-space:pre;overflow-x:auto;line-height:normal;font-family:Menlo,'DejaVu Sans Mono',consolas,'Courier New',monospace\">2025-06-08 13:20:33,354<span style=\"color: #767676; text-decoration-color: #767676\"> - </span><span style=\"color: #d787ff; text-decoration-color: #d787ff\">freqtrade.resolvers.strategy_resolver</span><span style=\"color: #767676; text-decoration-color: #767676\"> - </span><span style=\"color: #000080; text-decoration-color: #000080\">INFO</span><span style=\"color: #767676; text-decoration-color: #767676\"> - </span>Override strategy 'process_only_new_candles' with value in config file: True.\n",
       "</pre>\n"
      ],
      "text/plain": [
       "2025-06-08 13:20:33,354\u001b[38;5;243m - \u001b[0m\u001b[38;5;177mfreqtrade.resolvers.strategy_resolver\u001b[0m\u001b[38;5;243m - \u001b[0m\u001b[34mINFO\u001b[0m\u001b[38;5;243m - \u001b[0mOverride strategy 'process_only_new_candles' with value in config file: True.\n"
      ]
     },
     "metadata": {},
     "output_type": "display_data"
    },
    {
     "data": {
      "text/html": [
       "<pre style=\"white-space:pre;overflow-x:auto;line-height:normal;font-family:Menlo,'DejaVu Sans Mono',consolas,'Courier New',monospace\">2025-06-08 13:20:33,357<span style=\"color: #767676; text-decoration-color: #767676\"> - </span><span style=\"color: #d787ff; text-decoration-color: #d787ff\">freqtrade.resolvers.strategy_resolver</span><span style=\"color: #767676; text-decoration-color: #767676\"> - </span><span style=\"color: #000080; text-decoration-color: #000080\">INFO</span><span style=\"color: #767676; text-decoration-color: #767676\"> - </span>Override strategy 'stake_currency' with value in config file: USDT.\n",
       "</pre>\n"
      ],
      "text/plain": [
       "2025-06-08 13:20:33,357\u001b[38;5;243m - \u001b[0m\u001b[38;5;177mfreqtrade.resolvers.strategy_resolver\u001b[0m\u001b[38;5;243m - \u001b[0m\u001b[34mINFO\u001b[0m\u001b[38;5;243m - \u001b[0mOverride strategy 'stake_currency' with value in config file: USDT.\n"
      ]
     },
     "metadata": {},
     "output_type": "display_data"
    },
    {
     "data": {
      "text/html": [
       "<pre style=\"white-space:pre;overflow-x:auto;line-height:normal;font-family:Menlo,'DejaVu Sans Mono',consolas,'Courier New',monospace\">2025-06-08 13:20:33,361<span style=\"color: #767676; text-decoration-color: #767676\"> - </span><span style=\"color: #d787ff; text-decoration-color: #d787ff\">freqtrade.resolvers.strategy_resolver</span><span style=\"color: #767676; text-decoration-color: #767676\"> - </span><span style=\"color: #000080; text-decoration-color: #000080\">INFO</span><span style=\"color: #767676; text-decoration-color: #767676\"> - </span>Override strategy 'stake_amount' with value in config file: 10.\n",
       "</pre>\n"
      ],
      "text/plain": [
       "2025-06-08 13:20:33,361\u001b[38;5;243m - \u001b[0m\u001b[38;5;177mfreqtrade.resolvers.strategy_resolver\u001b[0m\u001b[38;5;243m - \u001b[0m\u001b[34mINFO\u001b[0m\u001b[38;5;243m - \u001b[0mOverride strategy 'stake_amount' with value in config file: 10.\n"
      ]
     },
     "metadata": {},
     "output_type": "display_data"
    },
    {
     "data": {
      "text/html": [
       "<pre style=\"white-space:pre;overflow-x:auto;line-height:normal;font-family:Menlo,'DejaVu Sans Mono',consolas,'Courier New',monospace\">2025-06-08 13:20:33,367<span style=\"color: #767676; text-decoration-color: #767676\"> - </span><span style=\"color: #d787ff; text-decoration-color: #d787ff\">freqtrade.resolvers.strategy_resolver</span><span style=\"color: #767676; text-decoration-color: #767676\"> - </span><span style=\"color: #000080; text-decoration-color: #000080\">INFO</span><span style=\"color: #767676; text-decoration-color: #767676\"> - </span>Override strategy 'unfilledtimeout' with value in config file: {'entry': 10, 'exit': 10, 'exit_timeout_count': 0, 'unit': \n",
       "'minutes'}.\n",
       "</pre>\n"
      ],
      "text/plain": [
       "2025-06-08 13:20:33,367\u001b[38;5;243m - \u001b[0m\u001b[38;5;177mfreqtrade.resolvers.strategy_resolver\u001b[0m\u001b[38;5;243m - \u001b[0m\u001b[34mINFO\u001b[0m\u001b[38;5;243m - \u001b[0mOverride strategy 'unfilledtimeout' with value in config file: {'entry': 10, 'exit': 10, 'exit_timeout_count': 0, 'unit': \n",
       "'minutes'}.\n"
      ]
     },
     "metadata": {},
     "output_type": "display_data"
    },
    {
     "data": {
      "text/html": [
       "<pre style=\"white-space:pre;overflow-x:auto;line-height:normal;font-family:Menlo,'DejaVu Sans Mono',consolas,'Courier New',monospace\">2025-06-08 13:20:33,373<span style=\"color: #767676; text-decoration-color: #767676\"> - </span><span style=\"color: #d787ff; text-decoration-color: #d787ff\">freqtrade.resolvers.strategy_resolver</span><span style=\"color: #767676; text-decoration-color: #767676\"> - </span><span style=\"color: #000080; text-decoration-color: #000080\">INFO</span><span style=\"color: #767676; text-decoration-color: #767676\"> - </span>Override strategy 'max_open_trades' with value in config file: inf.\n",
       "</pre>\n"
      ],
      "text/plain": [
       "2025-06-08 13:20:33,373\u001b[38;5;243m - \u001b[0m\u001b[38;5;177mfreqtrade.resolvers.strategy_resolver\u001b[0m\u001b[38;5;243m - \u001b[0m\u001b[34mINFO\u001b[0m\u001b[38;5;243m - \u001b[0mOverride strategy 'max_open_trades' with value in config file: inf.\n"
      ]
     },
     "metadata": {},
     "output_type": "display_data"
    },
    {
     "data": {
      "text/html": [
       "<pre style=\"white-space:pre;overflow-x:auto;line-height:normal;font-family:Menlo,'DejaVu Sans Mono',consolas,'Courier New',monospace\">2025-06-08 13:20:33,378<span style=\"color: #767676; text-decoration-color: #767676\"> - </span><span style=\"color: #d787ff; text-decoration-color: #d787ff\">freqtrade.resolvers.strategy_resolver</span><span style=\"color: #767676; text-decoration-color: #767676\"> - </span><span style=\"color: #000080; text-decoration-color: #000080\">INFO</span><span style=\"color: #767676; text-decoration-color: #767676\"> - </span>Strategy using minimal_roi: {'0': 0.05}\n",
       "</pre>\n"
      ],
      "text/plain": [
       "2025-06-08 13:20:33,378\u001b[38;5;243m - \u001b[0m\u001b[38;5;177mfreqtrade.resolvers.strategy_resolver\u001b[0m\u001b[38;5;243m - \u001b[0m\u001b[34mINFO\u001b[0m\u001b[38;5;243m - \u001b[0mStrategy using minimal_roi: {'0': 0.05}\n"
      ]
     },
     "metadata": {},
     "output_type": "display_data"
    },
    {
     "data": {
      "text/html": [
       "<pre style=\"white-space:pre;overflow-x:auto;line-height:normal;font-family:Menlo,'DejaVu Sans Mono',consolas,'Courier New',monospace\">2025-06-08 13:20:33,383<span style=\"color: #767676; text-decoration-color: #767676\"> - </span><span style=\"color: #d787ff; text-decoration-color: #d787ff\">freqtrade.resolvers.strategy_resolver</span><span style=\"color: #767676; text-decoration-color: #767676\"> - </span><span style=\"color: #000080; text-decoration-color: #000080\">INFO</span><span style=\"color: #767676; text-decoration-color: #767676\"> - </span>Strategy using timeframe: 5m\n",
       "</pre>\n"
      ],
      "text/plain": [
       "2025-06-08 13:20:33,383\u001b[38;5;243m - \u001b[0m\u001b[38;5;177mfreqtrade.resolvers.strategy_resolver\u001b[0m\u001b[38;5;243m - \u001b[0m\u001b[34mINFO\u001b[0m\u001b[38;5;243m - \u001b[0mStrategy using timeframe: 5m\n"
      ]
     },
     "metadata": {},
     "output_type": "display_data"
    },
    {
     "data": {
      "text/html": [
       "<pre style=\"white-space:pre;overflow-x:auto;line-height:normal;font-family:Menlo,'DejaVu Sans Mono',consolas,'Courier New',monospace\">2025-06-08 13:20:33,388<span style=\"color: #767676; text-decoration-color: #767676\"> - </span><span style=\"color: #d787ff; text-decoration-color: #d787ff\">freqtrade.resolvers.strategy_resolver</span><span style=\"color: #767676; text-decoration-color: #767676\"> - </span><span style=\"color: #000080; text-decoration-color: #000080\">INFO</span><span style=\"color: #767676; text-decoration-color: #767676\"> - </span>Strategy using stoploss: -0.1\n",
       "</pre>\n"
      ],
      "text/plain": [
       "2025-06-08 13:20:33,388\u001b[38;5;243m - \u001b[0m\u001b[38;5;177mfreqtrade.resolvers.strategy_resolver\u001b[0m\u001b[38;5;243m - \u001b[0m\u001b[34mINFO\u001b[0m\u001b[38;5;243m - \u001b[0mStrategy using stoploss: -0.1\n"
      ]
     },
     "metadata": {},
     "output_type": "display_data"
    },
    {
     "data": {
      "text/html": [
       "<pre style=\"white-space:pre;overflow-x:auto;line-height:normal;font-family:Menlo,'DejaVu Sans Mono',consolas,'Courier New',monospace\">2025-06-08 13:20:33,395<span style=\"color: #767676; text-decoration-color: #767676\"> - </span><span style=\"color: #d787ff; text-decoration-color: #d787ff\">freqtrade.resolvers.strategy_resolver</span><span style=\"color: #767676; text-decoration-color: #767676\"> - </span><span style=\"color: #000080; text-decoration-color: #000080\">INFO</span><span style=\"color: #767676; text-decoration-color: #767676\"> - </span>Strategy using trailing_stop: False\n",
       "</pre>\n"
      ],
      "text/plain": [
       "2025-06-08 13:20:33,395\u001b[38;5;243m - \u001b[0m\u001b[38;5;177mfreqtrade.resolvers.strategy_resolver\u001b[0m\u001b[38;5;243m - \u001b[0m\u001b[34mINFO\u001b[0m\u001b[38;5;243m - \u001b[0mStrategy using trailing_stop: False\n"
      ]
     },
     "metadata": {},
     "output_type": "display_data"
    },
    {
     "data": {
      "text/html": [
       "<pre style=\"white-space:pre;overflow-x:auto;line-height:normal;font-family:Menlo,'DejaVu Sans Mono',consolas,'Courier New',monospace\">2025-06-08 13:20:33,401<span style=\"color: #767676; text-decoration-color: #767676\"> - </span><span style=\"color: #d787ff; text-decoration-color: #d787ff\">freqtrade.resolvers.strategy_resolver</span><span style=\"color: #767676; text-decoration-color: #767676\"> - </span><span style=\"color: #000080; text-decoration-color: #000080\">INFO</span><span style=\"color: #767676; text-decoration-color: #767676\"> - </span>Strategy using trailing_stop_positive_offset: 0.0\n",
       "</pre>\n"
      ],
      "text/plain": [
       "2025-06-08 13:20:33,401\u001b[38;5;243m - \u001b[0m\u001b[38;5;177mfreqtrade.resolvers.strategy_resolver\u001b[0m\u001b[38;5;243m - \u001b[0m\u001b[34mINFO\u001b[0m\u001b[38;5;243m - \u001b[0mStrategy using trailing_stop_positive_offset: 0.0\n"
      ]
     },
     "metadata": {},
     "output_type": "display_data"
    },
    {
     "data": {
      "text/html": [
       "<pre style=\"white-space:pre;overflow-x:auto;line-height:normal;font-family:Menlo,'DejaVu Sans Mono',consolas,'Courier New',monospace\">2025-06-08 13:20:33,405<span style=\"color: #767676; text-decoration-color: #767676\"> - </span><span style=\"color: #d787ff; text-decoration-color: #d787ff\">freqtrade.resolvers.strategy_resolver</span><span style=\"color: #767676; text-decoration-color: #767676\"> - </span><span style=\"color: #000080; text-decoration-color: #000080\">INFO</span><span style=\"color: #767676; text-decoration-color: #767676\"> - </span>Strategy using trailing_only_offset_is_reached: False\n",
       "</pre>\n"
      ],
      "text/plain": [
       "2025-06-08 13:20:33,405\u001b[38;5;243m - \u001b[0m\u001b[38;5;177mfreqtrade.resolvers.strategy_resolver\u001b[0m\u001b[38;5;243m - \u001b[0m\u001b[34mINFO\u001b[0m\u001b[38;5;243m - \u001b[0mStrategy using trailing_only_offset_is_reached: False\n"
      ]
     },
     "metadata": {},
     "output_type": "display_data"
    },
    {
     "data": {
      "text/html": [
       "<pre style=\"white-space:pre;overflow-x:auto;line-height:normal;font-family:Menlo,'DejaVu Sans Mono',consolas,'Courier New',monospace\">2025-06-08 13:20:33,411<span style=\"color: #767676; text-decoration-color: #767676\"> - </span><span style=\"color: #d787ff; text-decoration-color: #d787ff\">freqtrade.resolvers.strategy_resolver</span><span style=\"color: #767676; text-decoration-color: #767676\"> - </span><span style=\"color: #000080; text-decoration-color: #000080\">INFO</span><span style=\"color: #767676; text-decoration-color: #767676\"> - </span>Strategy using use_custom_stoploss: False\n",
       "</pre>\n"
      ],
      "text/plain": [
       "2025-06-08 13:20:33,411\u001b[38;5;243m - \u001b[0m\u001b[38;5;177mfreqtrade.resolvers.strategy_resolver\u001b[0m\u001b[38;5;243m - \u001b[0m\u001b[34mINFO\u001b[0m\u001b[38;5;243m - \u001b[0mStrategy using use_custom_stoploss: False\n"
      ]
     },
     "metadata": {},
     "output_type": "display_data"
    },
    {
     "data": {
      "text/html": [
       "<pre style=\"white-space:pre;overflow-x:auto;line-height:normal;font-family:Menlo,'DejaVu Sans Mono',consolas,'Courier New',monospace\">2025-06-08 13:20:33,417<span style=\"color: #767676; text-decoration-color: #767676\"> - </span><span style=\"color: #d787ff; text-decoration-color: #d787ff\">freqtrade.resolvers.strategy_resolver</span><span style=\"color: #767676; text-decoration-color: #767676\"> - </span><span style=\"color: #000080; text-decoration-color: #000080\">INFO</span><span style=\"color: #767676; text-decoration-color: #767676\"> - </span>Strategy using process_only_new_candles: True\n",
       "</pre>\n"
      ],
      "text/plain": [
       "2025-06-08 13:20:33,417\u001b[38;5;243m - \u001b[0m\u001b[38;5;177mfreqtrade.resolvers.strategy_resolver\u001b[0m\u001b[38;5;243m - \u001b[0m\u001b[34mINFO\u001b[0m\u001b[38;5;243m - \u001b[0mStrategy using process_only_new_candles: True\n"
      ]
     },
     "metadata": {},
     "output_type": "display_data"
    },
    {
     "data": {
      "text/html": [
       "<pre style=\"white-space:pre;overflow-x:auto;line-height:normal;font-family:Menlo,'DejaVu Sans Mono',consolas,'Courier New',monospace\">2025-06-08 13:20:33,429<span style=\"color: #767676; text-decoration-color: #767676\"> - </span><span style=\"color: #d787ff; text-decoration-color: #d787ff\">freqtrade.resolvers.strategy_resolver</span><span style=\"color: #767676; text-decoration-color: #767676\"> - </span><span style=\"color: #000080; text-decoration-color: #000080\">INFO</span><span style=\"color: #767676; text-decoration-color: #767676\"> - </span>Strategy using order_types: {'entry': 'limit', 'exit': 'limit', 'stoploss': 'limit', 'stoploss_on_exchange': False, \n",
       "'stoploss_on_exchange_interval': 60}\n",
       "</pre>\n"
      ],
      "text/plain": [
       "2025-06-08 13:20:33,429\u001b[38;5;243m - \u001b[0m\u001b[38;5;177mfreqtrade.resolvers.strategy_resolver\u001b[0m\u001b[38;5;243m - \u001b[0m\u001b[34mINFO\u001b[0m\u001b[38;5;243m - \u001b[0mStrategy using order_types: {'entry': 'limit', 'exit': 'limit', 'stoploss': 'limit', 'stoploss_on_exchange': False, \n",
       "'stoploss_on_exchange_interval': 60}\n"
      ]
     },
     "metadata": {},
     "output_type": "display_data"
    },
    {
     "data": {
      "text/html": [
       "<pre style=\"white-space:pre;overflow-x:auto;line-height:normal;font-family:Menlo,'DejaVu Sans Mono',consolas,'Courier New',monospace\">2025-06-08 13:20:33,437<span style=\"color: #767676; text-decoration-color: #767676\"> - </span><span style=\"color: #d787ff; text-decoration-color: #d787ff\">freqtrade.resolvers.strategy_resolver</span><span style=\"color: #767676; text-decoration-color: #767676\"> - </span><span style=\"color: #000080; text-decoration-color: #000080\">INFO</span><span style=\"color: #767676; text-decoration-color: #767676\"> - </span>Strategy using order_time_in_force: {'entry': 'GTC', 'exit': 'GTC'}\n",
       "</pre>\n"
      ],
      "text/plain": [
       "2025-06-08 13:20:33,437\u001b[38;5;243m - \u001b[0m\u001b[38;5;177mfreqtrade.resolvers.strategy_resolver\u001b[0m\u001b[38;5;243m - \u001b[0m\u001b[34mINFO\u001b[0m\u001b[38;5;243m - \u001b[0mStrategy using order_time_in_force: {'entry': 'GTC', 'exit': 'GTC'}\n"
      ]
     },
     "metadata": {},
     "output_type": "display_data"
    },
    {
     "data": {
      "text/html": [
       "<pre style=\"white-space:pre;overflow-x:auto;line-height:normal;font-family:Menlo,'DejaVu Sans Mono',consolas,'Courier New',monospace\">2025-06-08 13:20:33,442<span style=\"color: #767676; text-decoration-color: #767676\"> - </span><span style=\"color: #d787ff; text-decoration-color: #d787ff\">freqtrade.resolvers.strategy_resolver</span><span style=\"color: #767676; text-decoration-color: #767676\"> - </span><span style=\"color: #000080; text-decoration-color: #000080\">INFO</span><span style=\"color: #767676; text-decoration-color: #767676\"> - </span>Strategy using stake_currency: USDT\n",
       "</pre>\n"
      ],
      "text/plain": [
       "2025-06-08 13:20:33,442\u001b[38;5;243m - \u001b[0m\u001b[38;5;177mfreqtrade.resolvers.strategy_resolver\u001b[0m\u001b[38;5;243m - \u001b[0m\u001b[34mINFO\u001b[0m\u001b[38;5;243m - \u001b[0mStrategy using stake_currency: USDT\n"
      ]
     },
     "metadata": {},
     "output_type": "display_data"
    },
    {
     "data": {
      "text/html": [
       "<pre style=\"white-space:pre;overflow-x:auto;line-height:normal;font-family:Menlo,'DejaVu Sans Mono',consolas,'Courier New',monospace\">2025-06-08 13:20:33,446<span style=\"color: #767676; text-decoration-color: #767676\"> - </span><span style=\"color: #d787ff; text-decoration-color: #d787ff\">freqtrade.resolvers.strategy_resolver</span><span style=\"color: #767676; text-decoration-color: #767676\"> - </span><span style=\"color: #000080; text-decoration-color: #000080\">INFO</span><span style=\"color: #767676; text-decoration-color: #767676\"> - </span>Strategy using stake_amount: 10\n",
       "</pre>\n"
      ],
      "text/plain": [
       "2025-06-08 13:20:33,446\u001b[38;5;243m - \u001b[0m\u001b[38;5;177mfreqtrade.resolvers.strategy_resolver\u001b[0m\u001b[38;5;243m - \u001b[0m\u001b[34mINFO\u001b[0m\u001b[38;5;243m - \u001b[0mStrategy using stake_amount: 10\n"
      ]
     },
     "metadata": {},
     "output_type": "display_data"
    },
    {
     "data": {
      "text/html": [
       "<pre style=\"white-space:pre;overflow-x:auto;line-height:normal;font-family:Menlo,'DejaVu Sans Mono',consolas,'Courier New',monospace\">2025-06-08 13:20:33,451<span style=\"color: #767676; text-decoration-color: #767676\"> - </span><span style=\"color: #d787ff; text-decoration-color: #d787ff\">freqtrade.resolvers.strategy_resolver</span><span style=\"color: #767676; text-decoration-color: #767676\"> - </span><span style=\"color: #000080; text-decoration-color: #000080\">INFO</span><span style=\"color: #767676; text-decoration-color: #767676\"> - </span>Strategy using startup_candle_count: 1\n",
       "</pre>\n"
      ],
      "text/plain": [
       "2025-06-08 13:20:33,451\u001b[38;5;243m - \u001b[0m\u001b[38;5;177mfreqtrade.resolvers.strategy_resolver\u001b[0m\u001b[38;5;243m - \u001b[0m\u001b[34mINFO\u001b[0m\u001b[38;5;243m - \u001b[0mStrategy using startup_candle_count: 1\n"
      ]
     },
     "metadata": {},
     "output_type": "display_data"
    },
    {
     "data": {
      "text/html": [
       "<pre style=\"white-space:pre;overflow-x:auto;line-height:normal;font-family:Menlo,'DejaVu Sans Mono',consolas,'Courier New',monospace\">2025-06-08 13:20:33,454<span style=\"color: #767676; text-decoration-color: #767676\"> - </span><span style=\"color: #d787ff; text-decoration-color: #d787ff\">freqtrade.resolvers.strategy_resolver</span><span style=\"color: #767676; text-decoration-color: #767676\"> - </span><span style=\"color: #000080; text-decoration-color: #000080\">INFO</span><span style=\"color: #767676; text-decoration-color: #767676\"> - </span>Strategy using unfilledtimeout: {'entry': 10, 'exit': 10, 'exit_timeout_count': 0, 'unit': 'minutes'}\n",
       "</pre>\n"
      ],
      "text/plain": [
       "2025-06-08 13:20:33,454\u001b[38;5;243m - \u001b[0m\u001b[38;5;177mfreqtrade.resolvers.strategy_resolver\u001b[0m\u001b[38;5;243m - \u001b[0m\u001b[34mINFO\u001b[0m\u001b[38;5;243m - \u001b[0mStrategy using unfilledtimeout: {'entry': 10, 'exit': 10, 'exit_timeout_count': 0, 'unit': 'minutes'}\n"
      ]
     },
     "metadata": {},
     "output_type": "display_data"
    },
    {
     "data": {
      "text/html": [
       "<pre style=\"white-space:pre;overflow-x:auto;line-height:normal;font-family:Menlo,'DejaVu Sans Mono',consolas,'Courier New',monospace\">2025-06-08 13:20:33,467<span style=\"color: #767676; text-decoration-color: #767676\"> - </span><span style=\"color: #d787ff; text-decoration-color: #d787ff\">freqtrade.resolvers.strategy_resolver</span><span style=\"color: #767676; text-decoration-color: #767676\"> - </span><span style=\"color: #000080; text-decoration-color: #000080\">INFO</span><span style=\"color: #767676; text-decoration-color: #767676\"> - </span>Strategy using use_exit_signal: True\n",
       "</pre>\n"
      ],
      "text/plain": [
       "2025-06-08 13:20:33,467\u001b[38;5;243m - \u001b[0m\u001b[38;5;177mfreqtrade.resolvers.strategy_resolver\u001b[0m\u001b[38;5;243m - \u001b[0m\u001b[34mINFO\u001b[0m\u001b[38;5;243m - \u001b[0mStrategy using use_exit_signal: True\n"
      ]
     },
     "metadata": {},
     "output_type": "display_data"
    },
    {
     "data": {
      "text/html": [
       "<pre style=\"white-space:pre;overflow-x:auto;line-height:normal;font-family:Menlo,'DejaVu Sans Mono',consolas,'Courier New',monospace\">2025-06-08 13:20:33,476<span style=\"color: #767676; text-decoration-color: #767676\"> - </span><span style=\"color: #d787ff; text-decoration-color: #d787ff\">freqtrade.resolvers.strategy_resolver</span><span style=\"color: #767676; text-decoration-color: #767676\"> - </span><span style=\"color: #000080; text-decoration-color: #000080\">INFO</span><span style=\"color: #767676; text-decoration-color: #767676\"> - </span>Strategy using exit_profit_only: False\n",
       "</pre>\n"
      ],
      "text/plain": [
       "2025-06-08 13:20:33,476\u001b[38;5;243m - \u001b[0m\u001b[38;5;177mfreqtrade.resolvers.strategy_resolver\u001b[0m\u001b[38;5;243m - \u001b[0m\u001b[34mINFO\u001b[0m\u001b[38;5;243m - \u001b[0mStrategy using exit_profit_only: False\n"
      ]
     },
     "metadata": {},
     "output_type": "display_data"
    },
    {
     "data": {
      "text/html": [
       "<pre style=\"white-space:pre;overflow-x:auto;line-height:normal;font-family:Menlo,'DejaVu Sans Mono',consolas,'Courier New',monospace\">2025-06-08 13:20:33,479<span style=\"color: #767676; text-decoration-color: #767676\"> - </span><span style=\"color: #d787ff; text-decoration-color: #d787ff\">freqtrade.resolvers.strategy_resolver</span><span style=\"color: #767676; text-decoration-color: #767676\"> - </span><span style=\"color: #000080; text-decoration-color: #000080\">INFO</span><span style=\"color: #767676; text-decoration-color: #767676\"> - </span>Strategy using ignore_roi_if_entry_signal: False\n",
       "</pre>\n"
      ],
      "text/plain": [
       "2025-06-08 13:20:33,479\u001b[38;5;243m - \u001b[0m\u001b[38;5;177mfreqtrade.resolvers.strategy_resolver\u001b[0m\u001b[38;5;243m - \u001b[0m\u001b[34mINFO\u001b[0m\u001b[38;5;243m - \u001b[0mStrategy using ignore_roi_if_entry_signal: False\n"
      ]
     },
     "metadata": {},
     "output_type": "display_data"
    },
    {
     "data": {
      "text/html": [
       "<pre style=\"white-space:pre;overflow-x:auto;line-height:normal;font-family:Menlo,'DejaVu Sans Mono',consolas,'Courier New',monospace\">2025-06-08 13:20:33,483<span style=\"color: #767676; text-decoration-color: #767676\"> - </span><span style=\"color: #d787ff; text-decoration-color: #d787ff\">freqtrade.resolvers.strategy_resolver</span><span style=\"color: #767676; text-decoration-color: #767676\"> - </span><span style=\"color: #000080; text-decoration-color: #000080\">INFO</span><span style=\"color: #767676; text-decoration-color: #767676\"> - </span>Strategy using exit_profit_offset: 0.0\n",
       "</pre>\n"
      ],
      "text/plain": [
       "2025-06-08 13:20:33,483\u001b[38;5;243m - \u001b[0m\u001b[38;5;177mfreqtrade.resolvers.strategy_resolver\u001b[0m\u001b[38;5;243m - \u001b[0m\u001b[34mINFO\u001b[0m\u001b[38;5;243m - \u001b[0mStrategy using exit_profit_offset: 0.0\n"
      ]
     },
     "metadata": {},
     "output_type": "display_data"
    },
    {
     "data": {
      "text/html": [
       "<pre style=\"white-space:pre;overflow-x:auto;line-height:normal;font-family:Menlo,'DejaVu Sans Mono',consolas,'Courier New',monospace\">2025-06-08 13:20:33,492<span style=\"color: #767676; text-decoration-color: #767676\"> - </span><span style=\"color: #d787ff; text-decoration-color: #d787ff\">freqtrade.resolvers.strategy_resolver</span><span style=\"color: #767676; text-decoration-color: #767676\"> - </span><span style=\"color: #000080; text-decoration-color: #000080\">INFO</span><span style=\"color: #767676; text-decoration-color: #767676\"> - </span>Strategy using disable_dataframe_checks: False\n",
       "</pre>\n"
      ],
      "text/plain": [
       "2025-06-08 13:20:33,492\u001b[38;5;243m - \u001b[0m\u001b[38;5;177mfreqtrade.resolvers.strategy_resolver\u001b[0m\u001b[38;5;243m - \u001b[0m\u001b[34mINFO\u001b[0m\u001b[38;5;243m - \u001b[0mStrategy using disable_dataframe_checks: False\n"
      ]
     },
     "metadata": {},
     "output_type": "display_data"
    },
    {
     "data": {
      "text/html": [
       "<pre style=\"white-space:pre;overflow-x:auto;line-height:normal;font-family:Menlo,'DejaVu Sans Mono',consolas,'Courier New',monospace\">2025-06-08 13:20:33,499<span style=\"color: #767676; text-decoration-color: #767676\"> - </span><span style=\"color: #d787ff; text-decoration-color: #d787ff\">freqtrade.resolvers.strategy_resolver</span><span style=\"color: #767676; text-decoration-color: #767676\"> - </span><span style=\"color: #000080; text-decoration-color: #000080\">INFO</span><span style=\"color: #767676; text-decoration-color: #767676\"> - </span>Strategy using ignore_buying_expired_candle_after: 0\n",
       "</pre>\n"
      ],
      "text/plain": [
       "2025-06-08 13:20:33,499\u001b[38;5;243m - \u001b[0m\u001b[38;5;177mfreqtrade.resolvers.strategy_resolver\u001b[0m\u001b[38;5;243m - \u001b[0m\u001b[34mINFO\u001b[0m\u001b[38;5;243m - \u001b[0mStrategy using ignore_buying_expired_candle_after: 0\n"
      ]
     },
     "metadata": {},
     "output_type": "display_data"
    },
    {
     "data": {
      "text/html": [
       "<pre style=\"white-space:pre;overflow-x:auto;line-height:normal;font-family:Menlo,'DejaVu Sans Mono',consolas,'Courier New',monospace\">2025-06-08 13:20:33,504<span style=\"color: #767676; text-decoration-color: #767676\"> - </span><span style=\"color: #d787ff; text-decoration-color: #d787ff\">freqtrade.resolvers.strategy_resolver</span><span style=\"color: #767676; text-decoration-color: #767676\"> - </span><span style=\"color: #000080; text-decoration-color: #000080\">INFO</span><span style=\"color: #767676; text-decoration-color: #767676\"> - </span>Strategy using position_adjustment_enable: False\n",
       "</pre>\n"
      ],
      "text/plain": [
       "2025-06-08 13:20:33,504\u001b[38;5;243m - \u001b[0m\u001b[38;5;177mfreqtrade.resolvers.strategy_resolver\u001b[0m\u001b[38;5;243m - \u001b[0m\u001b[34mINFO\u001b[0m\u001b[38;5;243m - \u001b[0mStrategy using position_adjustment_enable: False\n"
      ]
     },
     "metadata": {},
     "output_type": "display_data"
    },
    {
     "data": {
      "text/html": [
       "<pre style=\"white-space:pre;overflow-x:auto;line-height:normal;font-family:Menlo,'DejaVu Sans Mono',consolas,'Courier New',monospace\">2025-06-08 13:20:33,508<span style=\"color: #767676; text-decoration-color: #767676\"> - </span><span style=\"color: #d787ff; text-decoration-color: #d787ff\">freqtrade.resolvers.strategy_resolver</span><span style=\"color: #767676; text-decoration-color: #767676\"> - </span><span style=\"color: #000080; text-decoration-color: #000080\">INFO</span><span style=\"color: #767676; text-decoration-color: #767676\"> - </span>Strategy using max_entry_position_adjustment: -1\n",
       "</pre>\n"
      ],
      "text/plain": [
       "2025-06-08 13:20:33,508\u001b[38;5;243m - \u001b[0m\u001b[38;5;177mfreqtrade.resolvers.strategy_resolver\u001b[0m\u001b[38;5;243m - \u001b[0m\u001b[34mINFO\u001b[0m\u001b[38;5;243m - \u001b[0mStrategy using max_entry_position_adjustment: -1\n"
      ]
     },
     "metadata": {},
     "output_type": "display_data"
    },
    {
     "data": {
      "text/html": [
       "<pre style=\"white-space:pre;overflow-x:auto;line-height:normal;font-family:Menlo,'DejaVu Sans Mono',consolas,'Courier New',monospace\">2025-06-08 13:20:33,515<span style=\"color: #767676; text-decoration-color: #767676\"> - </span><span style=\"color: #d787ff; text-decoration-color: #d787ff\">freqtrade.resolvers.strategy_resolver</span><span style=\"color: #767676; text-decoration-color: #767676\"> - </span><span style=\"color: #000080; text-decoration-color: #000080\">INFO</span><span style=\"color: #767676; text-decoration-color: #767676\"> - </span>Strategy using max_open_trades: inf\n",
       "</pre>\n"
      ],
      "text/plain": [
       "2025-06-08 13:20:33,515\u001b[38;5;243m - \u001b[0m\u001b[38;5;177mfreqtrade.resolvers.strategy_resolver\u001b[0m\u001b[38;5;243m - \u001b[0m\u001b[34mINFO\u001b[0m\u001b[38;5;243m - \u001b[0mStrategy using max_open_trades: inf\n"
      ]
     },
     "metadata": {},
     "output_type": "display_data"
    },
    {
     "data": {
      "text/html": [
       "<pre style=\"white-space:pre;overflow-x:auto;line-height:normal;font-family:Menlo,'DejaVu Sans Mono',consolas,'Courier New',monospace\">2025-06-08 13:20:33,524<span style=\"color: #767676; text-decoration-color: #767676\"> - </span><span style=\"color: #d787ff; text-decoration-color: #d787ff\">freqtrade.strategy.hyper</span><span style=\"color: #767676; text-decoration-color: #767676\"> - </span><span style=\"color: #000080; text-decoration-color: #000080\">INFO</span><span style=\"color: #767676; text-decoration-color: #767676\"> - </span>No params for buy found, using default values.\n",
       "</pre>\n"
      ],
      "text/plain": [
       "2025-06-08 13:20:33,524\u001b[38;5;243m - \u001b[0m\u001b[38;5;177mfreqtrade.strategy.hyper\u001b[0m\u001b[38;5;243m - \u001b[0m\u001b[34mINFO\u001b[0m\u001b[38;5;243m - \u001b[0mNo params for buy found, using default values.\n"
      ]
     },
     "metadata": {},
     "output_type": "display_data"
    },
    {
     "data": {
      "text/html": [
       "<pre style=\"white-space:pre;overflow-x:auto;line-height:normal;font-family:Menlo,'DejaVu Sans Mono',consolas,'Courier New',monospace\">2025-06-08 13:20:33,529<span style=\"color: #767676; text-decoration-color: #767676\"> - </span><span style=\"color: #d787ff; text-decoration-color: #d787ff\">freqtrade.strategy.hyper</span><span style=\"color: #767676; text-decoration-color: #767676\"> - </span><span style=\"color: #000080; text-decoration-color: #000080\">INFO</span><span style=\"color: #767676; text-decoration-color: #767676\"> - </span>Strategy Parameter(default): long_probability = 0.5\n",
       "</pre>\n"
      ],
      "text/plain": [
       "2025-06-08 13:20:33,529\u001b[38;5;243m - \u001b[0m\u001b[38;5;177mfreqtrade.strategy.hyper\u001b[0m\u001b[38;5;243m - \u001b[0m\u001b[34mINFO\u001b[0m\u001b[38;5;243m - \u001b[0mStrategy Parameter(default): long_probability = 0.5\n"
      ]
     },
     "metadata": {},
     "output_type": "display_data"
    },
    {
     "data": {
      "text/html": [
       "<pre style=\"white-space:pre;overflow-x:auto;line-height:normal;font-family:Menlo,'DejaVu Sans Mono',consolas,'Courier New',monospace\">2025-06-08 13:20:33,533<span style=\"color: #767676; text-decoration-color: #767676\"> - </span><span style=\"color: #d787ff; text-decoration-color: #d787ff\">freqtrade.strategy.hyper</span><span style=\"color: #767676; text-decoration-color: #767676\"> - </span><span style=\"color: #000080; text-decoration-color: #000080\">INFO</span><span style=\"color: #767676; text-decoration-color: #767676\"> - </span>No params for sell found, using default values.\n",
       "</pre>\n"
      ],
      "text/plain": [
       "2025-06-08 13:20:33,533\u001b[38;5;243m - \u001b[0m\u001b[38;5;177mfreqtrade.strategy.hyper\u001b[0m\u001b[38;5;243m - \u001b[0m\u001b[34mINFO\u001b[0m\u001b[38;5;243m - \u001b[0mNo params for sell found, using default values.\n"
      ]
     },
     "metadata": {},
     "output_type": "display_data"
    },
    {
     "data": {
      "text/html": [
       "<pre style=\"white-space:pre;overflow-x:auto;line-height:normal;font-family:Menlo,'DejaVu Sans Mono',consolas,'Courier New',monospace\">2025-06-08 13:20:33,536<span style=\"color: #767676; text-decoration-color: #767676\"> - </span><span style=\"color: #d787ff; text-decoration-color: #d787ff\">freqtrade.strategy.hyper</span><span style=\"color: #767676; text-decoration-color: #767676\"> - </span><span style=\"color: #000080; text-decoration-color: #000080\">INFO</span><span style=\"color: #767676; text-decoration-color: #767676\"> - </span>No params for protection found, using default values.\n",
       "</pre>\n"
      ],
      "text/plain": [
       "2025-06-08 13:20:33,536\u001b[38;5;243m - \u001b[0m\u001b[38;5;177mfreqtrade.strategy.hyper\u001b[0m\u001b[38;5;243m - \u001b[0m\u001b[34mINFO\u001b[0m\u001b[38;5;243m - \u001b[0mNo params for protection found, using default values.\n"
      ]
     },
     "metadata": {},
     "output_type": "display_data"
    },
    {
     "data": {
      "text/html": [
       "<div>\n",
       "<style scoped>\n",
       "    .dataframe tbody tr th:only-of-type {\n",
       "        vertical-align: middle;\n",
       "    }\n",
       "\n",
       "    .dataframe tbody tr th {\n",
       "        vertical-align: top;\n",
       "    }\n",
       "\n",
       "    .dataframe thead th {\n",
       "        text-align: right;\n",
       "    }\n",
       "</style>\n",
       "<table border=\"1\" class=\"dataframe\">\n",
       "  <thead>\n",
       "    <tr style=\"text-align: right;\">\n",
       "      <th></th>\n",
       "      <th>date</th>\n",
       "      <th>open</th>\n",
       "      <th>high</th>\n",
       "      <th>low</th>\n",
       "      <th>close</th>\n",
       "      <th>volume</th>\n",
       "      <th>random_value</th>\n",
       "      <th>random_long</th>\n",
       "      <th>random_short</th>\n",
       "      <th>enter_tag</th>\n",
       "      <th>enter_long</th>\n",
       "      <th>enter_short</th>\n",
       "      <th>exit_tag</th>\n",
       "    </tr>\n",
       "  </thead>\n",
       "  <tbody>\n",
       "    <tr>\n",
       "      <th>37897</th>\n",
       "      <td>2025-05-31 23:35:00+00:00</td>\n",
       "      <td>0.3046</td>\n",
       "      <td>0.3053</td>\n",
       "      <td>0.3046</td>\n",
       "      <td>0.3049</td>\n",
       "      <td>55120.35</td>\n",
       "      <td>0.013859</td>\n",
       "      <td>True</td>\n",
       "      <td>False</td>\n",
       "      <td></td>\n",
       "      <td>1</td>\n",
       "      <td>0</td>\n",
       "      <td></td>\n",
       "    </tr>\n",
       "    <tr>\n",
       "      <th>37898</th>\n",
       "      <td>2025-05-31 23:40:00+00:00</td>\n",
       "      <td>0.3050</td>\n",
       "      <td>0.3050</td>\n",
       "      <td>0.3045</td>\n",
       "      <td>0.3045</td>\n",
       "      <td>51640.07</td>\n",
       "      <td>0.502506</td>\n",
       "      <td>False</td>\n",
       "      <td>True</td>\n",
       "      <td></td>\n",
       "      <td>0</td>\n",
       "      <td>1</td>\n",
       "      <td></td>\n",
       "    </tr>\n",
       "    <tr>\n",
       "      <th>37899</th>\n",
       "      <td>2025-05-31 23:45:00+00:00</td>\n",
       "      <td>0.3047</td>\n",
       "      <td>0.3051</td>\n",
       "      <td>0.3045</td>\n",
       "      <td>0.3048</td>\n",
       "      <td>32958.30</td>\n",
       "      <td>0.534789</td>\n",
       "      <td>False</td>\n",
       "      <td>True</td>\n",
       "      <td></td>\n",
       "      <td>0</td>\n",
       "      <td>1</td>\n",
       "      <td></td>\n",
       "    </tr>\n",
       "    <tr>\n",
       "      <th>37900</th>\n",
       "      <td>2025-05-31 23:50:00+00:00</td>\n",
       "      <td>0.3048</td>\n",
       "      <td>0.3056</td>\n",
       "      <td>0.3046</td>\n",
       "      <td>0.3049</td>\n",
       "      <td>36045.36</td>\n",
       "      <td>0.931097</td>\n",
       "      <td>False</td>\n",
       "      <td>True</td>\n",
       "      <td></td>\n",
       "      <td>0</td>\n",
       "      <td>1</td>\n",
       "      <td></td>\n",
       "    </tr>\n",
       "    <tr>\n",
       "      <th>37901</th>\n",
       "      <td>2025-05-31 23:55:00+00:00</td>\n",
       "      <td>0.3050</td>\n",
       "      <td>0.3054</td>\n",
       "      <td>0.3046</td>\n",
       "      <td>0.3051</td>\n",
       "      <td>35735.12</td>\n",
       "      <td>0.850837</td>\n",
       "      <td>False</td>\n",
       "      <td>True</td>\n",
       "      <td></td>\n",
       "      <td>0</td>\n",
       "      <td>1</td>\n",
       "      <td></td>\n",
       "    </tr>\n",
       "  </tbody>\n",
       "</table>\n",
       "</div>"
      ],
      "text/plain": [
       "                           date    open    high     low   close    volume  \\\n",
       "37897 2025-05-31 23:35:00+00:00  0.3046  0.3053  0.3046  0.3049  55120.35   \n",
       "37898 2025-05-31 23:40:00+00:00  0.3050  0.3050  0.3045  0.3045  51640.07   \n",
       "37899 2025-05-31 23:45:00+00:00  0.3047  0.3051  0.3045  0.3048  32958.30   \n",
       "37900 2025-05-31 23:50:00+00:00  0.3048  0.3056  0.3046  0.3049  36045.36   \n",
       "37901 2025-05-31 23:55:00+00:00  0.3050  0.3054  0.3046  0.3051  35735.12   \n",
       "\n",
       "       random_value  random_long  random_short enter_tag  enter_long  \\\n",
       "37897      0.013859         True         False                     1   \n",
       "37898      0.502506        False          True                     0   \n",
       "37899      0.534789        False          True                     0   \n",
       "37900      0.931097        False          True                     0   \n",
       "37901      0.850837        False          True                     0   \n",
       "\n",
       "       enter_short exit_tag  \n",
       "37897            0           \n",
       "37898            1           \n",
       "37899            1           \n",
       "37900            1           \n",
       "37901            1           "
      ]
     },
     "execution_count": 30,
     "metadata": {},
     "output_type": "execute_result"
    }
   ],
   "source": [
    "# Load strategy using values set above\n",
    "from freqtrade.data.dataprovider import DataProvider\n",
    "from freqtrade.resolvers import StrategyResolver\n",
    "\n",
    "\n",
    "strategy = StrategyResolver.load_strategy(config)\n",
    "strategy.dp = DataProvider(config, None, None)\n",
    "strategy.ft_bot_start()\n",
    "\n",
    "# Generate buy/sell signals using strategy\n",
    "df = strategy.analyze_ticker(candles, {\"pair\": pair})\n",
    "df.tail()"
   ]
  },
  {
   "cell_type": "code",
   "execution_count": 34,
   "id": "2dfb5f92-e85f-4129-8ffa-731ec8c719d3",
   "metadata": {},
   "outputs": [
    {
     "name": "stdout",
     "output_type": "stream",
     "text": [
      "Generated 18809 entry signals\n",
      "Generated 19093 entry signals\n"
     ]
    },
    {
     "data": {
      "text/html": [
       "<div>\n",
       "<style scoped>\n",
       "    .dataframe tbody tr th:only-of-type {\n",
       "        vertical-align: middle;\n",
       "    }\n",
       "\n",
       "    .dataframe tbody tr th {\n",
       "        vertical-align: top;\n",
       "    }\n",
       "\n",
       "    .dataframe thead th {\n",
       "        text-align: right;\n",
       "    }\n",
       "</style>\n",
       "<table border=\"1\" class=\"dataframe\">\n",
       "  <thead>\n",
       "    <tr style=\"text-align: right;\">\n",
       "      <th></th>\n",
       "      <th>date</th>\n",
       "      <th>open</th>\n",
       "      <th>high</th>\n",
       "      <th>low</th>\n",
       "      <th>close</th>\n",
       "      <th>volume</th>\n",
       "      <th>random_value</th>\n",
       "      <th>random_long</th>\n",
       "      <th>random_short</th>\n",
       "      <th>enter_tag</th>\n",
       "      <th>enter_long</th>\n",
       "      <th>enter_short</th>\n",
       "      <th>exit_tag</th>\n",
       "    </tr>\n",
       "    <tr>\n",
       "      <th>date</th>\n",
       "      <th></th>\n",
       "      <th></th>\n",
       "      <th></th>\n",
       "      <th></th>\n",
       "      <th></th>\n",
       "      <th></th>\n",
       "      <th></th>\n",
       "      <th></th>\n",
       "      <th></th>\n",
       "      <th></th>\n",
       "      <th></th>\n",
       "      <th></th>\n",
       "      <th></th>\n",
       "    </tr>\n",
       "  </thead>\n",
       "  <tbody>\n",
       "    <tr>\n",
       "      <th>2025-05-31 23:35:00+00:00</th>\n",
       "      <td>2025-05-31 23:35:00+00:00</td>\n",
       "      <td>0.3046</td>\n",
       "      <td>0.3053</td>\n",
       "      <td>0.3046</td>\n",
       "      <td>0.3049</td>\n",
       "      <td>55120.35</td>\n",
       "      <td>0.013859</td>\n",
       "      <td>True</td>\n",
       "      <td>False</td>\n",
       "      <td></td>\n",
       "      <td>1</td>\n",
       "      <td>0</td>\n",
       "      <td></td>\n",
       "    </tr>\n",
       "    <tr>\n",
       "      <th>2025-05-31 23:40:00+00:00</th>\n",
       "      <td>2025-05-31 23:40:00+00:00</td>\n",
       "      <td>0.3050</td>\n",
       "      <td>0.3050</td>\n",
       "      <td>0.3045</td>\n",
       "      <td>0.3045</td>\n",
       "      <td>51640.07</td>\n",
       "      <td>0.502506</td>\n",
       "      <td>False</td>\n",
       "      <td>True</td>\n",
       "      <td></td>\n",
       "      <td>0</td>\n",
       "      <td>1</td>\n",
       "      <td></td>\n",
       "    </tr>\n",
       "    <tr>\n",
       "      <th>2025-05-31 23:45:00+00:00</th>\n",
       "      <td>2025-05-31 23:45:00+00:00</td>\n",
       "      <td>0.3047</td>\n",
       "      <td>0.3051</td>\n",
       "      <td>0.3045</td>\n",
       "      <td>0.3048</td>\n",
       "      <td>32958.30</td>\n",
       "      <td>0.534789</td>\n",
       "      <td>False</td>\n",
       "      <td>True</td>\n",
       "      <td></td>\n",
       "      <td>0</td>\n",
       "      <td>1</td>\n",
       "      <td></td>\n",
       "    </tr>\n",
       "    <tr>\n",
       "      <th>2025-05-31 23:50:00+00:00</th>\n",
       "      <td>2025-05-31 23:50:00+00:00</td>\n",
       "      <td>0.3048</td>\n",
       "      <td>0.3056</td>\n",
       "      <td>0.3046</td>\n",
       "      <td>0.3049</td>\n",
       "      <td>36045.36</td>\n",
       "      <td>0.931097</td>\n",
       "      <td>False</td>\n",
       "      <td>True</td>\n",
       "      <td></td>\n",
       "      <td>0</td>\n",
       "      <td>1</td>\n",
       "      <td></td>\n",
       "    </tr>\n",
       "    <tr>\n",
       "      <th>2025-05-31 23:55:00+00:00</th>\n",
       "      <td>2025-05-31 23:55:00+00:00</td>\n",
       "      <td>0.3050</td>\n",
       "      <td>0.3054</td>\n",
       "      <td>0.3046</td>\n",
       "      <td>0.3051</td>\n",
       "      <td>35735.12</td>\n",
       "      <td>0.850837</td>\n",
       "      <td>False</td>\n",
       "      <td>True</td>\n",
       "      <td></td>\n",
       "      <td>0</td>\n",
       "      <td>1</td>\n",
       "      <td></td>\n",
       "    </tr>\n",
       "  </tbody>\n",
       "</table>\n",
       "</div>"
      ],
      "text/plain": [
       "                                               date    open    high     low  \\\n",
       "date                                                                          \n",
       "2025-05-31 23:35:00+00:00 2025-05-31 23:35:00+00:00  0.3046  0.3053  0.3046   \n",
       "2025-05-31 23:40:00+00:00 2025-05-31 23:40:00+00:00  0.3050  0.3050  0.3045   \n",
       "2025-05-31 23:45:00+00:00 2025-05-31 23:45:00+00:00  0.3047  0.3051  0.3045   \n",
       "2025-05-31 23:50:00+00:00 2025-05-31 23:50:00+00:00  0.3048  0.3056  0.3046   \n",
       "2025-05-31 23:55:00+00:00 2025-05-31 23:55:00+00:00  0.3050  0.3054  0.3046   \n",
       "\n",
       "                            close    volume  random_value  random_long  \\\n",
       "date                                                                     \n",
       "2025-05-31 23:35:00+00:00  0.3049  55120.35      0.013859         True   \n",
       "2025-05-31 23:40:00+00:00  0.3045  51640.07      0.502506        False   \n",
       "2025-05-31 23:45:00+00:00  0.3048  32958.30      0.534789        False   \n",
       "2025-05-31 23:50:00+00:00  0.3049  36045.36      0.931097        False   \n",
       "2025-05-31 23:55:00+00:00  0.3051  35735.12      0.850837        False   \n",
       "\n",
       "                           random_short enter_tag  enter_long  enter_short  \\\n",
       "date                                                                         \n",
       "2025-05-31 23:35:00+00:00         False                     1            0   \n",
       "2025-05-31 23:40:00+00:00          True                     0            1   \n",
       "2025-05-31 23:45:00+00:00          True                     0            1   \n",
       "2025-05-31 23:50:00+00:00          True                     0            1   \n",
       "2025-05-31 23:55:00+00:00          True                     0            1   \n",
       "\n",
       "                          exit_tag  \n",
       "date                                \n",
       "2025-05-31 23:35:00+00:00           \n",
       "2025-05-31 23:40:00+00:00           \n",
       "2025-05-31 23:45:00+00:00           \n",
       "2025-05-31 23:50:00+00:00           \n",
       "2025-05-31 23:55:00+00:00           "
      ]
     },
     "execution_count": 34,
     "metadata": {},
     "output_type": "execute_result"
    }
   ],
   "source": [
    "# Report results\n",
    "print(f\"Generated {df['enter_long'].sum()} entry signals\")\n",
    "print(f\"Generated {df['enter_short'].sum()} entry signals\")\n",
    "data = df.set_index(\"date\", drop=False)\n",
    "data.tail()"
   ]
  },
  {
   "cell_type": "code",
   "execution_count": null,
   "id": "1c90de2e-1301-49e8-ad19-4a2ef2f252ff",
   "metadata": {},
   "outputs": [],
   "source": []
  },
  {
   "cell_type": "code",
   "execution_count": null,
   "id": "8c6c9bd7-3801-45c4-8b7a-a7db76256349",
   "metadata": {},
   "outputs": [],
   "source": []
  }
 ],
 "metadata": {
  "kernelspec": {
   "display_name": "Python 3 (ipykernel)",
   "language": "python",
   "name": "python3"
  },
  "language_info": {
   "codemirror_mode": {
    "name": "ipython",
    "version": 3
   },
   "file_extension": ".py",
   "mimetype": "text/x-python",
   "name": "python",
   "nbconvert_exporter": "python",
   "pygments_lexer": "ipython3",
   "version": "3.13.4"
  }
 },
 "nbformat": 4,
 "nbformat_minor": 5
}
