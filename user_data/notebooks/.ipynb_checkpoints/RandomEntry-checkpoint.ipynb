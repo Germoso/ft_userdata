{
 "cells": [
  {
   "cell_type": "code",
   "execution_count": 14,
   "id": "2b23cf26-f3de-4528-b1d0-f71ae017ee5d",
   "metadata": {},
   "outputs": [
    {
     "name": "stdout",
     "output_type": "stream",
     "text": [
      "/freqtrade\n"
     ]
    }
   ],
   "source": [
    "import os\n",
    "from pathlib import Path\n",
    "\n",
    "# Change directory\n",
    "# Modify this cell to insure that the output shows the correct path.\n",
    "# Define all paths relative to the project root shown in the cell output\n",
    "project_root = \"/home/sscf/freqtrade\"\n",
    "i=0\n",
    "try:\n",
    "    os.chdirdir(project_root)\n",
    "    assert Path('LICENSE').is_file()\n",
    "except:\n",
    "    while i<4 and (not Path('LICENSE').is_file()):\n",
    "        os.chdir(Path(Path.cwd(), '../'))\n",
    "        i+=1\n",
    "    project_root = Path.cwd()\n",
    "print(Path.cwd())"
   ]
  },
  {
   "cell_type": "code",
   "execution_count": 15,
   "id": "876a8f01-9f05-4fe3-92cb-f9a6fafeb3d0",
   "metadata": {},
   "outputs": [],
   "source": [
    "import numpy as np\n",
    "import pandas as pd"
   ]
  },
  {
   "cell_type": "code",
   "execution_count": 28,
   "id": "16040ef5-5f7c-44a0-b909-c5495a87d8b2",
   "metadata": {},
   "outputs": [
    {
     "data": {
      "text/html": [
       "<pre style=\"white-space:pre;overflow-x:auto;line-height:normal;font-family:Menlo,'DejaVu Sans Mono',consolas,'Courier New',monospace\">2025-06-08 13:19:40,401<span style=\"color: #767676; text-decoration-color: #767676\"> - </span><span style=\"color: #d787ff; text-decoration-color: #d787ff\">freqtrade.configuration.load_config</span><span style=\"color: #767676; text-decoration-color: #767676\"> - </span><span style=\"color: #000080; text-decoration-color: #000080\">INFO</span><span style=\"color: #767676; text-decoration-color: #767676\"> - </span>Using config: config.json ...\n",
       "</pre>\n"
      ],
      "text/plain": [
       "2025-06-08 13:19:40,401\u001b[38;5;243m - \u001b[0m\u001b[38;5;177mfreqtrade.configuration.load_config\u001b[0m\u001b[38;5;243m - \u001b[0m\u001b[34mINFO\u001b[0m\u001b[38;5;243m - \u001b[0mUsing config: config.json ...\n"
      ]
     },
     "metadata": {},
     "output_type": "display_data"
    },
    {
     "ename": "OperationalException",
     "evalue": "Config file \"config.json\" not found! Please create a config file or check whether it exists.",
     "output_type": "error",
     "traceback": [
      "\u001b[0;31m---------------------------------------------------------------------------\u001b[0m",
      "\u001b[0;31mOperationalException\u001b[0m                      Traceback (most recent call last)",
      "Cell \u001b[0;32mIn[28], line 7\u001b[0m\n\u001b[1;32m      1\u001b[0m \u001b[38;5;28;01mfrom\u001b[39;00m\u001b[38;5;250m \u001b[39m\u001b[38;5;21;01mfreqtrade\u001b[39;00m\u001b[38;5;21;01m.\u001b[39;00m\u001b[38;5;21;01mconfiguration\u001b[39;00m\u001b[38;5;250m \u001b[39m\u001b[38;5;28;01mimport\u001b[39;00m Configuration\n\u001b[1;32m      4\u001b[0m \u001b[38;5;66;03m# Customize these according to your needs.\u001b[39;00m\n\u001b[1;32m      5\u001b[0m \n\u001b[1;32m      6\u001b[0m \u001b[38;5;66;03m# Initialize empty configuration object\u001b[39;00m\n\u001b[0;32m----> 7\u001b[0m config \u001b[38;5;241m=\u001b[39m \u001b[43mConfiguration\u001b[49m\u001b[38;5;241;43m.\u001b[39;49m\u001b[43mfrom_files\u001b[49m\u001b[43m(\u001b[49m\u001b[43m[\u001b[49m\u001b[38;5;124;43m\"\u001b[39;49m\u001b[38;5;124;43mconfig.json\u001b[39;49m\u001b[38;5;124;43m\"\u001b[39;49m\u001b[43m]\u001b[49m\u001b[43m)\u001b[49m\n\u001b[1;32m      8\u001b[0m \u001b[38;5;66;03m# Optionally (recommended), use existing configuration file\u001b[39;00m\n\u001b[1;32m      9\u001b[0m \u001b[38;5;66;03m# config = Configuration.from_files([\"user_data/config.json\"])\u001b[39;00m\n\u001b[1;32m     10\u001b[0m \n\u001b[1;32m     11\u001b[0m \u001b[38;5;66;03m# Define some constants\u001b[39;00m\n\u001b[1;32m     12\u001b[0m config[\u001b[38;5;124m\"\u001b[39m\u001b[38;5;124mtimeframe\u001b[39m\u001b[38;5;124m\"\u001b[39m] \u001b[38;5;241m=\u001b[39m \u001b[38;5;124m\"\u001b[39m\u001b[38;5;124m5m\u001b[39m\u001b[38;5;124m\"\u001b[39m\n",
      "File \u001b[0;32m/freqtrade/freqtrade/configuration/configuration.py:70\u001b[0m, in \u001b[0;36mConfiguration.from_files\u001b[0;34m(files)\u001b[0m\n\u001b[1;32m     68\u001b[0m \u001b[38;5;66;03m# Keep this method as staticmethod, so it can be used from interactive environments\u001b[39;00m\n\u001b[1;32m     69\u001b[0m c \u001b[38;5;241m=\u001b[39m Configuration({\u001b[38;5;124m\"\u001b[39m\u001b[38;5;124mconfig\u001b[39m\u001b[38;5;124m\"\u001b[39m: files}, RunMode\u001b[38;5;241m.\u001b[39mOTHER)\n\u001b[0;32m---> 70\u001b[0m \u001b[38;5;28;01mreturn\u001b[39;00m \u001b[43mc\u001b[49m\u001b[38;5;241;43m.\u001b[39;49m\u001b[43mget_config\u001b[49m\u001b[43m(\u001b[49m\u001b[43m)\u001b[49m\n",
      "File \u001b[0;32m/freqtrade/freqtrade/configuration/configuration.py:52\u001b[0m, in \u001b[0;36mConfiguration.get_config\u001b[0;34m(self)\u001b[0m\n\u001b[1;32m     47\u001b[0m \u001b[38;5;250m\u001b[39m\u001b[38;5;124;03m\"\"\"\u001b[39;00m\n\u001b[1;32m     48\u001b[0m \u001b[38;5;124;03mReturn the config. Use this method to get the bot config\u001b[39;00m\n\u001b[1;32m     49\u001b[0m \u001b[38;5;124;03m:return: Dict: Bot config\u001b[39;00m\n\u001b[1;32m     50\u001b[0m \u001b[38;5;124;03m\"\"\"\u001b[39;00m\n\u001b[1;32m     51\u001b[0m \u001b[38;5;28;01mif\u001b[39;00m \u001b[38;5;28mself\u001b[39m\u001b[38;5;241m.\u001b[39mconfig \u001b[38;5;129;01mis\u001b[39;00m \u001b[38;5;28;01mNone\u001b[39;00m:\n\u001b[0;32m---> 52\u001b[0m     \u001b[38;5;28mself\u001b[39m\u001b[38;5;241m.\u001b[39mconfig \u001b[38;5;241m=\u001b[39m \u001b[38;5;28;43mself\u001b[39;49m\u001b[38;5;241;43m.\u001b[39;49m\u001b[43mload_config\u001b[49m\u001b[43m(\u001b[49m\u001b[43m)\u001b[49m\n\u001b[1;32m     54\u001b[0m \u001b[38;5;28;01mreturn\u001b[39;00m \u001b[38;5;28mself\u001b[39m\u001b[38;5;241m.\u001b[39mconfig\n",
      "File \u001b[0;32m/freqtrade/freqtrade/configuration/configuration.py:78\u001b[0m, in \u001b[0;36mConfiguration.load_config\u001b[0;34m(self)\u001b[0m\n\u001b[1;32m     73\u001b[0m \u001b[38;5;250m\u001b[39m\u001b[38;5;124;03m\"\"\"\u001b[39;00m\n\u001b[1;32m     74\u001b[0m \u001b[38;5;124;03mExtract information for sys.argv and load the bot configuration\u001b[39;00m\n\u001b[1;32m     75\u001b[0m \u001b[38;5;124;03m:return: Configuration dictionary\u001b[39;00m\n\u001b[1;32m     76\u001b[0m \u001b[38;5;124;03m\"\"\"\u001b[39;00m\n\u001b[1;32m     77\u001b[0m \u001b[38;5;66;03m# Load all configs\u001b[39;00m\n\u001b[0;32m---> 78\u001b[0m config: Config \u001b[38;5;241m=\u001b[39m \u001b[43mload_from_files\u001b[49m\u001b[43m(\u001b[49m\u001b[38;5;28;43mself\u001b[39;49m\u001b[38;5;241;43m.\u001b[39;49m\u001b[43margs\u001b[49m\u001b[38;5;241;43m.\u001b[39;49m\u001b[43mget\u001b[49m\u001b[43m(\u001b[49m\u001b[38;5;124;43m\"\u001b[39;49m\u001b[38;5;124;43mconfig\u001b[39;49m\u001b[38;5;124;43m\"\u001b[39;49m\u001b[43m,\u001b[49m\u001b[43m \u001b[49m\u001b[43m[\u001b[49m\u001b[43m]\u001b[49m\u001b[43m)\u001b[49m\u001b[43m)\u001b[49m\n\u001b[1;32m     80\u001b[0m \u001b[38;5;66;03m# Load environment variables\u001b[39;00m\n\u001b[1;32m     81\u001b[0m \u001b[38;5;28;01mfrom\u001b[39;00m\u001b[38;5;250m \u001b[39m\u001b[38;5;21;01mfreqtrade\u001b[39;00m\u001b[38;5;21;01m.\u001b[39;00m\u001b[38;5;21;01mcommands\u001b[39;00m\u001b[38;5;21;01m.\u001b[39;00m\u001b[38;5;21;01marguments\u001b[39;00m\u001b[38;5;250m \u001b[39m\u001b[38;5;28;01mimport\u001b[39;00m NO_CONF_ALLOWED\n",
      "File \u001b[0;32m/freqtrade/freqtrade/configuration/load_config.py:105\u001b[0m, in \u001b[0;36mload_from_files\u001b[0;34m(files, base_path, level)\u001b[0m\n\u001b[1;32m    101\u001b[0m \u001b[38;5;28;01mif\u001b[39;00m base_path:\n\u001b[1;32m    102\u001b[0m     \u001b[38;5;66;03m# Prepend basepath to allow for relative assignments\u001b[39;00m\n\u001b[1;32m    103\u001b[0m     file \u001b[38;5;241m=\u001b[39m base_path \u001b[38;5;241m/\u001b[39m file\n\u001b[0;32m--> 105\u001b[0m config_tmp \u001b[38;5;241m=\u001b[39m \u001b[43mload_config_file\u001b[49m\u001b[43m(\u001b[49m\u001b[38;5;28;43mstr\u001b[39;49m\u001b[43m(\u001b[49m\u001b[43mfile\u001b[49m\u001b[43m)\u001b[49m\u001b[43m)\u001b[49m\n\u001b[1;32m    106\u001b[0m \u001b[38;5;28;01mif\u001b[39;00m \u001b[38;5;124m\"\u001b[39m\u001b[38;5;124madd_config_files\u001b[39m\u001b[38;5;124m\"\u001b[39m \u001b[38;5;129;01min\u001b[39;00m config_tmp:\n\u001b[1;32m    107\u001b[0m     config_sub \u001b[38;5;241m=\u001b[39m load_from_files(\n\u001b[1;32m    108\u001b[0m         config_tmp[\u001b[38;5;124m\"\u001b[39m\u001b[38;5;124madd_config_files\u001b[39m\u001b[38;5;124m\"\u001b[39m], file\u001b[38;5;241m.\u001b[39mresolve()\u001b[38;5;241m.\u001b[39mparent, level \u001b[38;5;241m+\u001b[39m \u001b[38;5;241m1\u001b[39m\n\u001b[1;32m    109\u001b[0m     )\n",
      "File \u001b[0;32m/freqtrade/freqtrade/configuration/load_config.py:65\u001b[0m, in \u001b[0;36mload_config_file\u001b[0;34m(path)\u001b[0m\n\u001b[1;32m     63\u001b[0m         config \u001b[38;5;241m=\u001b[39m rapidjson\u001b[38;5;241m.\u001b[39mload(file, parse_mode\u001b[38;5;241m=\u001b[39mCONFIG_PARSE_MODE)\n\u001b[1;32m     64\u001b[0m \u001b[38;5;28;01mexcept\u001b[39;00m \u001b[38;5;167;01mFileNotFoundError\u001b[39;00m:\n\u001b[0;32m---> 65\u001b[0m     \u001b[38;5;28;01mraise\u001b[39;00m OperationalException(\n\u001b[1;32m     66\u001b[0m         \u001b[38;5;124mf\u001b[39m\u001b[38;5;124m'\u001b[39m\u001b[38;5;124mConfig file \u001b[39m\u001b[38;5;124m\"\u001b[39m\u001b[38;5;132;01m{\u001b[39;00mpath\u001b[38;5;132;01m}\u001b[39;00m\u001b[38;5;124m\"\u001b[39m\u001b[38;5;124m not found!\u001b[39m\u001b[38;5;124m'\u001b[39m\n\u001b[1;32m     67\u001b[0m         \u001b[38;5;124m\"\u001b[39m\u001b[38;5;124m Please create a config file or check whether it exists.\u001b[39m\u001b[38;5;124m\"\u001b[39m\n\u001b[1;32m     68\u001b[0m     ) \u001b[38;5;28;01mfrom\u001b[39;00m\u001b[38;5;250m \u001b[39m\u001b[38;5;28;01mNone\u001b[39;00m\n\u001b[1;32m     69\u001b[0m \u001b[38;5;28;01mexcept\u001b[39;00m rapidjson\u001b[38;5;241m.\u001b[39mJSONDecodeError \u001b[38;5;28;01mas\u001b[39;00m e:\n\u001b[1;32m     70\u001b[0m     err_range \u001b[38;5;241m=\u001b[39m log_config_error_range(path, \u001b[38;5;28mstr\u001b[39m(e))\n",
      "\u001b[0;31mOperationalException\u001b[0m: Config file \"config.json\" not found! Please create a config file or check whether it exists."
     ]
    }
   ],
   "source": [
    "from freqtrade.configuration import Configuration\n",
    "\n",
    "\n",
    "# Customize these according to your needs.\n",
    "\n",
    "# Initialize empty configuration object\n",
    "# Optionally (recommended), use existing configuration file\n",
    "config = Configuration.from_files([\"user_data/config.json\"])\n",
    "\n",
    "# Define some constants\n",
    "config[\"timeframe\"] = \"5m\"\n",
    "# Name of the strategy class\n",
    "config[\"strategy\"] = \"RandomEntry\"\n",
    "# Location of the data\n",
    "data_location = config[\"datadir\"]\n",
    "# Pair to analyze - Only use one pair here\n",
    "pair = \"MELANIA/USDT:USDT\""
   ]
  },
  {
   "cell_type": "code",
   "execution_count": 23,
   "id": "0034dc7a-24c1-4b9d-ad6c-390f683ec1ea",
   "metadata": {},
   "outputs": [
    {
     "name": "stdout",
     "output_type": "stream",
     "text": [
      "Encontrado: /freqtrade/user_data/data/binance/futures/MELANIA_USDT_USDT-5m-futures.feather\n",
      "Encontrado: /freqtrade/user_data/data/binance/futures/MELANIA_USDT_USDT-8h-funding_rate.feather\n",
      "Encontrado: /freqtrade/user_data/data/binance/futures/MELANIA_USDT_USDT-8h-mark.feather\n"
     ]
    }
   ],
   "source": [
    "# Encuentra archivos que contengan \"MELANIA\"\n",
    "import os\n",
    "for root, dirs, files in os.walk(data_location):\n",
    "    for file in files:\n",
    "        if \"MELANIA\" in file.upper():\n",
    "            print(f\"Encontrado: {os.path.join(root, file)}\")"
   ]
  },
  {
   "cell_type": "code",
   "execution_count": 24,
   "id": "ca3ee9f1-84fb-4d6e-8cb1-74bc3d87e3f6",
   "metadata": {},
   "outputs": [
    {
     "name": "stdout",
     "output_type": "stream",
     "text": [
      "Loaded 37902 rows of data for MELANIA/USDT:USDT from /freqtrade/user_data/data/binance\n"
     ]
    },
    {
     "data": {
      "text/html": [
       "<div>\n",
       "<style scoped>\n",
       "    .dataframe tbody tr th:only-of-type {\n",
       "        vertical-align: middle;\n",
       "    }\n",
       "\n",
       "    .dataframe tbody tr th {\n",
       "        vertical-align: top;\n",
       "    }\n",
       "\n",
       "    .dataframe thead th {\n",
       "        text-align: right;\n",
       "    }\n",
       "</style>\n",
       "<table border=\"1\" class=\"dataframe\">\n",
       "  <thead>\n",
       "    <tr style=\"text-align: right;\">\n",
       "      <th></th>\n",
       "      <th>date</th>\n",
       "      <th>open</th>\n",
       "      <th>high</th>\n",
       "      <th>low</th>\n",
       "      <th>close</th>\n",
       "      <th>volume</th>\n",
       "    </tr>\n",
       "  </thead>\n",
       "  <tbody>\n",
       "    <tr>\n",
       "      <th>0</th>\n",
       "      <td>2025-01-20 09:30:00+00:00</td>\n",
       "      <td>11.000</td>\n",
       "      <td>11.377</td>\n",
       "      <td>9.570</td>\n",
       "      <td>10.671</td>\n",
       "      <td>3170927.05</td>\n",
       "    </tr>\n",
       "    <tr>\n",
       "      <th>1</th>\n",
       "      <td>2025-01-20 09:35:00+00:00</td>\n",
       "      <td>10.680</td>\n",
       "      <td>11.126</td>\n",
       "      <td>10.248</td>\n",
       "      <td>10.877</td>\n",
       "      <td>1890644.05</td>\n",
       "    </tr>\n",
       "    <tr>\n",
       "      <th>2</th>\n",
       "      <td>2025-01-20 09:40:00+00:00</td>\n",
       "      <td>10.882</td>\n",
       "      <td>11.310</td>\n",
       "      <td>10.802</td>\n",
       "      <td>11.198</td>\n",
       "      <td>1415396.91</td>\n",
       "    </tr>\n",
       "    <tr>\n",
       "      <th>3</th>\n",
       "      <td>2025-01-20 09:45:00+00:00</td>\n",
       "      <td>11.198</td>\n",
       "      <td>11.481</td>\n",
       "      <td>10.800</td>\n",
       "      <td>11.053</td>\n",
       "      <td>1628204.05</td>\n",
       "    </tr>\n",
       "    <tr>\n",
       "      <th>4</th>\n",
       "      <td>2025-01-20 09:50:00+00:00</td>\n",
       "      <td>11.053</td>\n",
       "      <td>11.137</td>\n",
       "      <td>10.301</td>\n",
       "      <td>10.502</td>\n",
       "      <td>1799539.90</td>\n",
       "    </tr>\n",
       "  </tbody>\n",
       "</table>\n",
       "</div>"
      ],
      "text/plain": [
       "                       date    open    high     low   close      volume\n",
       "0 2025-01-20 09:30:00+00:00  11.000  11.377   9.570  10.671  3170927.05\n",
       "1 2025-01-20 09:35:00+00:00  10.680  11.126  10.248  10.877  1890644.05\n",
       "2 2025-01-20 09:40:00+00:00  10.882  11.310  10.802  11.198  1415396.91\n",
       "3 2025-01-20 09:45:00+00:00  11.198  11.481  10.800  11.053  1628204.05\n",
       "4 2025-01-20 09:50:00+00:00  11.053  11.137  10.301  10.502  1799539.90"
      ]
     },
     "execution_count": 24,
     "metadata": {},
     "output_type": "execute_result"
    }
   ],
   "source": [
    "# Load data using values set above\n",
    "from freqtrade.data.history import load_pair_history\n",
    "from freqtrade.enums import CandleType\n",
    "\n",
    "\n",
    "data_location = Path(config['user_data_dir'], 'data', 'binance')\n",
    "\n",
    "candles = load_pair_history(\n",
    "    datadir=data_location,\n",
    "    timeframe=config[\"timeframe\"],\n",
    "    pair=pair,\n",
    "    data_format=\"feather\",  # Make sure to update this to your data\n",
    "    candle_type=CandleType.FUTURES,\n",
    ")\n",
    "\n",
    "# Confirm success\n",
    "print(f\"Loaded {len(candles)} rows of data for {pair} from {data_location}\")\n",
    "candles.head()"
   ]
  },
  {
   "cell_type": "code",
   "execution_count": 25,
   "id": "5f94d95f-7402-40a5-a7d0-36d159a463d7",
   "metadata": {},
   "outputs": [
    {
     "name": "stderr",
     "output_type": "stream",
     "text": [
      "/home/ftuser/.local/lib/python3.13/site-packages/tqdm/auto.py:21: TqdmWarning: IProgress not found. Please update jupyter and ipywidgets. See https://ipywidgets.readthedocs.io/en/stable/user_install.html\n",
      "  from .autonotebook import tqdm as notebook_tqdm\n"
     ]
    },
    {
     "data": {
      "text/html": [
       "<pre style=\"white-space:pre;overflow-x:auto;line-height:normal;font-family:Menlo,'DejaVu Sans Mono',consolas,'Courier New',monospace\">2025-06-08 13:18:13,690<span style=\"color: #767676; text-decoration-color: #767676\"> - </span><span style=\"color: #d787ff; text-decoration-color: #d787ff\">freqtrade.resolvers.iresolver</span><span style=\"color: #767676; text-decoration-color: #767676\"> - </span><span style=\"color: #000080; text-decoration-color: #000080\">INFO</span><span style=\"color: #767676; text-decoration-color: #767676\"> - </span>Using resolved strategy RandomEntry from '/freqtrade/user_data/strategies/RandomEntry.py'...\n",
       "</pre>\n"
      ],
      "text/plain": [
       "2025-06-08 13:18:13,690\u001b[38;5;243m - \u001b[0m\u001b[38;5;177mfreqtrade.resolvers.iresolver\u001b[0m\u001b[38;5;243m - \u001b[0m\u001b[34mINFO\u001b[0m\u001b[38;5;243m - \u001b[0mUsing resolved strategy RandomEntry from '/freqtrade/user_data/strategies/RandomEntry.py'...\n"
      ]
     },
     "metadata": {},
     "output_type": "display_data"
    },
    {
     "data": {
      "text/html": [
       "<pre style=\"white-space:pre;overflow-x:auto;line-height:normal;font-family:Menlo,'DejaVu Sans Mono',consolas,'Courier New',monospace\">2025-06-08 13:18:13,694<span style=\"color: #767676; text-decoration-color: #767676\"> - </span><span style=\"color: #d787ff; text-decoration-color: #d787ff\">freqtrade.strategy.hyper</span><span style=\"color: #767676; text-decoration-color: #767676\"> - </span><span style=\"color: #000080; text-decoration-color: #000080\">INFO</span><span style=\"color: #767676; text-decoration-color: #767676\"> - </span>Found no parameter file.\n",
       "</pre>\n"
      ],
      "text/plain": [
       "2025-06-08 13:18:13,694\u001b[38;5;243m - \u001b[0m\u001b[38;5;177mfreqtrade.strategy.hyper\u001b[0m\u001b[38;5;243m - \u001b[0m\u001b[34mINFO\u001b[0m\u001b[38;5;243m - \u001b[0mFound no parameter file.\n"
      ]
     },
     "metadata": {},
     "output_type": "display_data"
    },
    {
     "data": {
      "text/html": [
       "<pre style=\"white-space:pre;overflow-x:auto;line-height:normal;font-family:Menlo,'DejaVu Sans Mono',consolas,'Courier New',monospace\">2025-06-08 13:18:13,697<span style=\"color: #767676; text-decoration-color: #767676\"> - </span><span style=\"color: #d787ff; text-decoration-color: #d787ff\">freqtrade.resolvers.strategy_resolver</span><span style=\"color: #767676; text-decoration-color: #767676\"> - </span><span style=\"color: #000080; text-decoration-color: #000080\">INFO</span><span style=\"color: #767676; text-decoration-color: #767676\"> - </span>Override strategy 'timeframe' with value in config file: 5m.\n",
       "</pre>\n"
      ],
      "text/plain": [
       "2025-06-08 13:18:13,697\u001b[38;5;243m - \u001b[0m\u001b[38;5;177mfreqtrade.resolvers.strategy_resolver\u001b[0m\u001b[38;5;243m - \u001b[0m\u001b[34mINFO\u001b[0m\u001b[38;5;243m - \u001b[0mOverride strategy 'timeframe' with value in config file: 5m.\n"
      ]
     },
     "metadata": {},
     "output_type": "display_data"
    },
    {
     "data": {
      "text/html": [
       "<pre style=\"white-space:pre;overflow-x:auto;line-height:normal;font-family:Menlo,'DejaVu Sans Mono',consolas,'Courier New',monospace\">2025-06-08 13:18:13,700<span style=\"color: #767676; text-decoration-color: #767676\"> - </span><span style=\"color: #d787ff; text-decoration-color: #d787ff\">freqtrade.resolvers.strategy_resolver</span><span style=\"color: #767676; text-decoration-color: #767676\"> - </span><span style=\"color: #000080; text-decoration-color: #000080\">INFO</span><span style=\"color: #767676; text-decoration-color: #767676\"> - </span>Override strategy 'stake_currency' with value in config file: .\n",
       "</pre>\n"
      ],
      "text/plain": [
       "2025-06-08 13:18:13,700\u001b[38;5;243m - \u001b[0m\u001b[38;5;177mfreqtrade.resolvers.strategy_resolver\u001b[0m\u001b[38;5;243m - \u001b[0m\u001b[34mINFO\u001b[0m\u001b[38;5;243m - \u001b[0mOverride strategy 'stake_currency' with value in config file: .\n"
      ]
     },
     "metadata": {},
     "output_type": "display_data"
    },
    {
     "data": {
      "text/html": [
       "<pre style=\"white-space:pre;overflow-x:auto;line-height:normal;font-family:Menlo,'DejaVu Sans Mono',consolas,'Courier New',monospace\">2025-06-08 13:18:13,704<span style=\"color: #767676; text-decoration-color: #767676\"> - </span><span style=\"color: #d787ff; text-decoration-color: #d787ff\">freqtrade.resolvers.strategy_resolver</span><span style=\"color: #767676; text-decoration-color: #767676\"> - </span><span style=\"color: #000080; text-decoration-color: #000080\">INFO</span><span style=\"color: #767676; text-decoration-color: #767676\"> - </span>Strategy using minimal_roi: {'0': 0.05}\n",
       "</pre>\n"
      ],
      "text/plain": [
       "2025-06-08 13:18:13,704\u001b[38;5;243m - \u001b[0m\u001b[38;5;177mfreqtrade.resolvers.strategy_resolver\u001b[0m\u001b[38;5;243m - \u001b[0m\u001b[34mINFO\u001b[0m\u001b[38;5;243m - \u001b[0mStrategy using minimal_roi: {'0': 0.05}\n"
      ]
     },
     "metadata": {},
     "output_type": "display_data"
    },
    {
     "data": {
      "text/html": [
       "<pre style=\"white-space:pre;overflow-x:auto;line-height:normal;font-family:Menlo,'DejaVu Sans Mono',consolas,'Courier New',monospace\">2025-06-08 13:18:13,707<span style=\"color: #767676; text-decoration-color: #767676\"> - </span><span style=\"color: #d787ff; text-decoration-color: #d787ff\">freqtrade.resolvers.strategy_resolver</span><span style=\"color: #767676; text-decoration-color: #767676\"> - </span><span style=\"color: #000080; text-decoration-color: #000080\">INFO</span><span style=\"color: #767676; text-decoration-color: #767676\"> - </span>Strategy using timeframe: 5m\n",
       "</pre>\n"
      ],
      "text/plain": [
       "2025-06-08 13:18:13,707\u001b[38;5;243m - \u001b[0m\u001b[38;5;177mfreqtrade.resolvers.strategy_resolver\u001b[0m\u001b[38;5;243m - \u001b[0m\u001b[34mINFO\u001b[0m\u001b[38;5;243m - \u001b[0mStrategy using timeframe: 5m\n"
      ]
     },
     "metadata": {},
     "output_type": "display_data"
    },
    {
     "data": {
      "text/html": [
       "<pre style=\"white-space:pre;overflow-x:auto;line-height:normal;font-family:Menlo,'DejaVu Sans Mono',consolas,'Courier New',monospace\">2025-06-08 13:18:13,711<span style=\"color: #767676; text-decoration-color: #767676\"> - </span><span style=\"color: #d787ff; text-decoration-color: #d787ff\">freqtrade.resolvers.strategy_resolver</span><span style=\"color: #767676; text-decoration-color: #767676\"> - </span><span style=\"color: #000080; text-decoration-color: #000080\">INFO</span><span style=\"color: #767676; text-decoration-color: #767676\"> - </span>Strategy using stoploss: -0.1\n",
       "</pre>\n"
      ],
      "text/plain": [
       "2025-06-08 13:18:13,711\u001b[38;5;243m - \u001b[0m\u001b[38;5;177mfreqtrade.resolvers.strategy_resolver\u001b[0m\u001b[38;5;243m - \u001b[0m\u001b[34mINFO\u001b[0m\u001b[38;5;243m - \u001b[0mStrategy using stoploss: -0.1\n"
      ]
     },
     "metadata": {},
     "output_type": "display_data"
    },
    {
     "data": {
      "text/html": [
       "<pre style=\"white-space:pre;overflow-x:auto;line-height:normal;font-family:Menlo,'DejaVu Sans Mono',consolas,'Courier New',monospace\">2025-06-08 13:18:13,714<span style=\"color: #767676; text-decoration-color: #767676\"> - </span><span style=\"color: #d787ff; text-decoration-color: #d787ff\">freqtrade.resolvers.strategy_resolver</span><span style=\"color: #767676; text-decoration-color: #767676\"> - </span><span style=\"color: #000080; text-decoration-color: #000080\">INFO</span><span style=\"color: #767676; text-decoration-color: #767676\"> - </span>Strategy using trailing_stop: False\n",
       "</pre>\n"
      ],
      "text/plain": [
       "2025-06-08 13:18:13,714\u001b[38;5;243m - \u001b[0m\u001b[38;5;177mfreqtrade.resolvers.strategy_resolver\u001b[0m\u001b[38;5;243m - \u001b[0m\u001b[34mINFO\u001b[0m\u001b[38;5;243m - \u001b[0mStrategy using trailing_stop: False\n"
      ]
     },
     "metadata": {},
     "output_type": "display_data"
    },
    {
     "data": {
      "text/html": [
       "<pre style=\"white-space:pre;overflow-x:auto;line-height:normal;font-family:Menlo,'DejaVu Sans Mono',consolas,'Courier New',monospace\">2025-06-08 13:18:13,716<span style=\"color: #767676; text-decoration-color: #767676\"> - </span><span style=\"color: #d787ff; text-decoration-color: #d787ff\">freqtrade.resolvers.strategy_resolver</span><span style=\"color: #767676; text-decoration-color: #767676\"> - </span><span style=\"color: #000080; text-decoration-color: #000080\">INFO</span><span style=\"color: #767676; text-decoration-color: #767676\"> - </span>Strategy using trailing_stop_positive_offset: 0.0\n",
       "</pre>\n"
      ],
      "text/plain": [
       "2025-06-08 13:18:13,716\u001b[38;5;243m - \u001b[0m\u001b[38;5;177mfreqtrade.resolvers.strategy_resolver\u001b[0m\u001b[38;5;243m - \u001b[0m\u001b[34mINFO\u001b[0m\u001b[38;5;243m - \u001b[0mStrategy using trailing_stop_positive_offset: 0.0\n"
      ]
     },
     "metadata": {},
     "output_type": "display_data"
    },
    {
     "data": {
      "text/html": [
       "<pre style=\"white-space:pre;overflow-x:auto;line-height:normal;font-family:Menlo,'DejaVu Sans Mono',consolas,'Courier New',monospace\">2025-06-08 13:18:13,719<span style=\"color: #767676; text-decoration-color: #767676\"> - </span><span style=\"color: #d787ff; text-decoration-color: #d787ff\">freqtrade.resolvers.strategy_resolver</span><span style=\"color: #767676; text-decoration-color: #767676\"> - </span><span style=\"color: #000080; text-decoration-color: #000080\">INFO</span><span style=\"color: #767676; text-decoration-color: #767676\"> - </span>Strategy using trailing_only_offset_is_reached: False\n",
       "</pre>\n"
      ],
      "text/plain": [
       "2025-06-08 13:18:13,719\u001b[38;5;243m - \u001b[0m\u001b[38;5;177mfreqtrade.resolvers.strategy_resolver\u001b[0m\u001b[38;5;243m - \u001b[0m\u001b[34mINFO\u001b[0m\u001b[38;5;243m - \u001b[0mStrategy using trailing_only_offset_is_reached: False\n"
      ]
     },
     "metadata": {},
     "output_type": "display_data"
    },
    {
     "data": {
      "text/html": [
       "<pre style=\"white-space:pre;overflow-x:auto;line-height:normal;font-family:Menlo,'DejaVu Sans Mono',consolas,'Courier New',monospace\">2025-06-08 13:18:13,724<span style=\"color: #767676; text-decoration-color: #767676\"> - </span><span style=\"color: #d787ff; text-decoration-color: #d787ff\">freqtrade.resolvers.strategy_resolver</span><span style=\"color: #767676; text-decoration-color: #767676\"> - </span><span style=\"color: #000080; text-decoration-color: #000080\">INFO</span><span style=\"color: #767676; text-decoration-color: #767676\"> - </span>Strategy using use_custom_stoploss: False\n",
       "</pre>\n"
      ],
      "text/plain": [
       "2025-06-08 13:18:13,724\u001b[38;5;243m - \u001b[0m\u001b[38;5;177mfreqtrade.resolvers.strategy_resolver\u001b[0m\u001b[38;5;243m - \u001b[0m\u001b[34mINFO\u001b[0m\u001b[38;5;243m - \u001b[0mStrategy using use_custom_stoploss: False\n"
      ]
     },
     "metadata": {},
     "output_type": "display_data"
    },
    {
     "data": {
      "text/html": [
       "<pre style=\"white-space:pre;overflow-x:auto;line-height:normal;font-family:Menlo,'DejaVu Sans Mono',consolas,'Courier New',monospace\">2025-06-08 13:18:13,728<span style=\"color: #767676; text-decoration-color: #767676\"> - </span><span style=\"color: #d787ff; text-decoration-color: #d787ff\">freqtrade.resolvers.strategy_resolver</span><span style=\"color: #767676; text-decoration-color: #767676\"> - </span><span style=\"color: #000080; text-decoration-color: #000080\">INFO</span><span style=\"color: #767676; text-decoration-color: #767676\"> - </span>Strategy using process_only_new_candles: True\n",
       "</pre>\n"
      ],
      "text/plain": [
       "2025-06-08 13:18:13,728\u001b[38;5;243m - \u001b[0m\u001b[38;5;177mfreqtrade.resolvers.strategy_resolver\u001b[0m\u001b[38;5;243m - \u001b[0m\u001b[34mINFO\u001b[0m\u001b[38;5;243m - \u001b[0mStrategy using process_only_new_candles: True\n"
      ]
     },
     "metadata": {},
     "output_type": "display_data"
    },
    {
     "data": {
      "text/html": [
       "<pre style=\"white-space:pre;overflow-x:auto;line-height:normal;font-family:Menlo,'DejaVu Sans Mono',consolas,'Courier New',monospace\">2025-06-08 13:18:13,730<span style=\"color: #767676; text-decoration-color: #767676\"> - </span><span style=\"color: #d787ff; text-decoration-color: #d787ff\">freqtrade.resolvers.strategy_resolver</span><span style=\"color: #767676; text-decoration-color: #767676\"> - </span><span style=\"color: #000080; text-decoration-color: #000080\">INFO</span><span style=\"color: #767676; text-decoration-color: #767676\"> - </span>Strategy using order_types: {'entry': 'limit', 'exit': 'limit', 'stoploss': 'limit', 'stoploss_on_exchange': False, \n",
       "'stoploss_on_exchange_interval': 60}\n",
       "</pre>\n"
      ],
      "text/plain": [
       "2025-06-08 13:18:13,730\u001b[38;5;243m - \u001b[0m\u001b[38;5;177mfreqtrade.resolvers.strategy_resolver\u001b[0m\u001b[38;5;243m - \u001b[0m\u001b[34mINFO\u001b[0m\u001b[38;5;243m - \u001b[0mStrategy using order_types: {'entry': 'limit', 'exit': 'limit', 'stoploss': 'limit', 'stoploss_on_exchange': False, \n",
       "'stoploss_on_exchange_interval': 60}\n"
      ]
     },
     "metadata": {},
     "output_type": "display_data"
    },
    {
     "data": {
      "text/html": [
       "<pre style=\"white-space:pre;overflow-x:auto;line-height:normal;font-family:Menlo,'DejaVu Sans Mono',consolas,'Courier New',monospace\">2025-06-08 13:18:13,734<span style=\"color: #767676; text-decoration-color: #767676\"> - </span><span style=\"color: #d787ff; text-decoration-color: #d787ff\">freqtrade.resolvers.strategy_resolver</span><span style=\"color: #767676; text-decoration-color: #767676\"> - </span><span style=\"color: #000080; text-decoration-color: #000080\">INFO</span><span style=\"color: #767676; text-decoration-color: #767676\"> - </span>Strategy using order_time_in_force: {'entry': 'GTC', 'exit': 'GTC'}\n",
       "</pre>\n"
      ],
      "text/plain": [
       "2025-06-08 13:18:13,734\u001b[38;5;243m - \u001b[0m\u001b[38;5;177mfreqtrade.resolvers.strategy_resolver\u001b[0m\u001b[38;5;243m - \u001b[0m\u001b[34mINFO\u001b[0m\u001b[38;5;243m - \u001b[0mStrategy using order_time_in_force: {'entry': 'GTC', 'exit': 'GTC'}\n"
      ]
     },
     "metadata": {},
     "output_type": "display_data"
    },
    {
     "data": {
      "text/html": [
       "<pre style=\"white-space:pre;overflow-x:auto;line-height:normal;font-family:Menlo,'DejaVu Sans Mono',consolas,'Courier New',monospace\">2025-06-08 13:18:13,737<span style=\"color: #767676; text-decoration-color: #767676\"> - </span><span style=\"color: #d787ff; text-decoration-color: #d787ff\">freqtrade.resolvers.strategy_resolver</span><span style=\"color: #767676; text-decoration-color: #767676\"> - </span><span style=\"color: #000080; text-decoration-color: #000080\">INFO</span><span style=\"color: #767676; text-decoration-color: #767676\"> - </span>Strategy using stake_currency: \n",
       "</pre>\n"
      ],
      "text/plain": [
       "2025-06-08 13:18:13,737\u001b[38;5;243m - \u001b[0m\u001b[38;5;177mfreqtrade.resolvers.strategy_resolver\u001b[0m\u001b[38;5;243m - \u001b[0m\u001b[34mINFO\u001b[0m\u001b[38;5;243m - \u001b[0mStrategy using stake_currency: \n"
      ]
     },
     "metadata": {},
     "output_type": "display_data"
    },
    {
     "data": {
      "text/html": [
       "<pre style=\"white-space:pre;overflow-x:auto;line-height:normal;font-family:Menlo,'DejaVu Sans Mono',consolas,'Courier New',monospace\">2025-06-08 13:18:13,741<span style=\"color: #767676; text-decoration-color: #767676\"> - </span><span style=\"color: #d787ff; text-decoration-color: #d787ff\">freqtrade.resolvers.strategy_resolver</span><span style=\"color: #767676; text-decoration-color: #767676\"> - </span><span style=\"color: #000080; text-decoration-color: #000080\">INFO</span><span style=\"color: #767676; text-decoration-color: #767676\"> - </span>Strategy using startup_candle_count: 1\n",
       "</pre>\n"
      ],
      "text/plain": [
       "2025-06-08 13:18:13,741\u001b[38;5;243m - \u001b[0m\u001b[38;5;177mfreqtrade.resolvers.strategy_resolver\u001b[0m\u001b[38;5;243m - \u001b[0m\u001b[34mINFO\u001b[0m\u001b[38;5;243m - \u001b[0mStrategy using startup_candle_count: 1\n"
      ]
     },
     "metadata": {},
     "output_type": "display_data"
    },
    {
     "data": {
      "text/html": [
       "<pre style=\"white-space:pre;overflow-x:auto;line-height:normal;font-family:Menlo,'DejaVu Sans Mono',consolas,'Courier New',monospace\">2025-06-08 13:18:13,744<span style=\"color: #767676; text-decoration-color: #767676\"> - </span><span style=\"color: #d787ff; text-decoration-color: #d787ff\">freqtrade.resolvers.strategy_resolver</span><span style=\"color: #767676; text-decoration-color: #767676\"> - </span><span style=\"color: #000080; text-decoration-color: #000080\">INFO</span><span style=\"color: #767676; text-decoration-color: #767676\"> - </span>Strategy using use_exit_signal: True\n",
       "</pre>\n"
      ],
      "text/plain": [
       "2025-06-08 13:18:13,744\u001b[38;5;243m - \u001b[0m\u001b[38;5;177mfreqtrade.resolvers.strategy_resolver\u001b[0m\u001b[38;5;243m - \u001b[0m\u001b[34mINFO\u001b[0m\u001b[38;5;243m - \u001b[0mStrategy using use_exit_signal: True\n"
      ]
     },
     "metadata": {},
     "output_type": "display_data"
    },
    {
     "data": {
      "text/html": [
       "<pre style=\"white-space:pre;overflow-x:auto;line-height:normal;font-family:Menlo,'DejaVu Sans Mono',consolas,'Courier New',monospace\">2025-06-08 13:18:13,747<span style=\"color: #767676; text-decoration-color: #767676\"> - </span><span style=\"color: #d787ff; text-decoration-color: #d787ff\">freqtrade.resolvers.strategy_resolver</span><span style=\"color: #767676; text-decoration-color: #767676\"> - </span><span style=\"color: #000080; text-decoration-color: #000080\">INFO</span><span style=\"color: #767676; text-decoration-color: #767676\"> - </span>Strategy using exit_profit_only: False\n",
       "</pre>\n"
      ],
      "text/plain": [
       "2025-06-08 13:18:13,747\u001b[38;5;243m - \u001b[0m\u001b[38;5;177mfreqtrade.resolvers.strategy_resolver\u001b[0m\u001b[38;5;243m - \u001b[0m\u001b[34mINFO\u001b[0m\u001b[38;5;243m - \u001b[0mStrategy using exit_profit_only: False\n"
      ]
     },
     "metadata": {},
     "output_type": "display_data"
    },
    {
     "data": {
      "text/html": [
       "<pre style=\"white-space:pre;overflow-x:auto;line-height:normal;font-family:Menlo,'DejaVu Sans Mono',consolas,'Courier New',monospace\">2025-06-08 13:18:13,750<span style=\"color: #767676; text-decoration-color: #767676\"> - </span><span style=\"color: #d787ff; text-decoration-color: #d787ff\">freqtrade.resolvers.strategy_resolver</span><span style=\"color: #767676; text-decoration-color: #767676\"> - </span><span style=\"color: #000080; text-decoration-color: #000080\">INFO</span><span style=\"color: #767676; text-decoration-color: #767676\"> - </span>Strategy using ignore_roi_if_entry_signal: False\n",
       "</pre>\n"
      ],
      "text/plain": [
       "2025-06-08 13:18:13,750\u001b[38;5;243m - \u001b[0m\u001b[38;5;177mfreqtrade.resolvers.strategy_resolver\u001b[0m\u001b[38;5;243m - \u001b[0m\u001b[34mINFO\u001b[0m\u001b[38;5;243m - \u001b[0mStrategy using ignore_roi_if_entry_signal: False\n"
      ]
     },
     "metadata": {},
     "output_type": "display_data"
    },
    {
     "data": {
      "text/html": [
       "<pre style=\"white-space:pre;overflow-x:auto;line-height:normal;font-family:Menlo,'DejaVu Sans Mono',consolas,'Courier New',monospace\">2025-06-08 13:18:13,753<span style=\"color: #767676; text-decoration-color: #767676\"> - </span><span style=\"color: #d787ff; text-decoration-color: #d787ff\">freqtrade.resolvers.strategy_resolver</span><span style=\"color: #767676; text-decoration-color: #767676\"> - </span><span style=\"color: #000080; text-decoration-color: #000080\">INFO</span><span style=\"color: #767676; text-decoration-color: #767676\"> - </span>Strategy using exit_profit_offset: 0.0\n",
       "</pre>\n"
      ],
      "text/plain": [
       "2025-06-08 13:18:13,753\u001b[38;5;243m - \u001b[0m\u001b[38;5;177mfreqtrade.resolvers.strategy_resolver\u001b[0m\u001b[38;5;243m - \u001b[0m\u001b[34mINFO\u001b[0m\u001b[38;5;243m - \u001b[0mStrategy using exit_profit_offset: 0.0\n"
      ]
     },
     "metadata": {},
     "output_type": "display_data"
    },
    {
     "data": {
      "text/html": [
       "<pre style=\"white-space:pre;overflow-x:auto;line-height:normal;font-family:Menlo,'DejaVu Sans Mono',consolas,'Courier New',monospace\">2025-06-08 13:18:13,756<span style=\"color: #767676; text-decoration-color: #767676\"> - </span><span style=\"color: #d787ff; text-decoration-color: #d787ff\">freqtrade.resolvers.strategy_resolver</span><span style=\"color: #767676; text-decoration-color: #767676\"> - </span><span style=\"color: #000080; text-decoration-color: #000080\">INFO</span><span style=\"color: #767676; text-decoration-color: #767676\"> - </span>Strategy using disable_dataframe_checks: False\n",
       "</pre>\n"
      ],
      "text/plain": [
       "2025-06-08 13:18:13,756\u001b[38;5;243m - \u001b[0m\u001b[38;5;177mfreqtrade.resolvers.strategy_resolver\u001b[0m\u001b[38;5;243m - \u001b[0m\u001b[34mINFO\u001b[0m\u001b[38;5;243m - \u001b[0mStrategy using disable_dataframe_checks: False\n"
      ]
     },
     "metadata": {},
     "output_type": "display_data"
    },
    {
     "data": {
      "text/html": [
       "<pre style=\"white-space:pre;overflow-x:auto;line-height:normal;font-family:Menlo,'DejaVu Sans Mono',consolas,'Courier New',monospace\">2025-06-08 13:18:13,759<span style=\"color: #767676; text-decoration-color: #767676\"> - </span><span style=\"color: #d787ff; text-decoration-color: #d787ff\">freqtrade.resolvers.strategy_resolver</span><span style=\"color: #767676; text-decoration-color: #767676\"> - </span><span style=\"color: #000080; text-decoration-color: #000080\">INFO</span><span style=\"color: #767676; text-decoration-color: #767676\"> - </span>Strategy using ignore_buying_expired_candle_after: 0\n",
       "</pre>\n"
      ],
      "text/plain": [
       "2025-06-08 13:18:13,759\u001b[38;5;243m - \u001b[0m\u001b[38;5;177mfreqtrade.resolvers.strategy_resolver\u001b[0m\u001b[38;5;243m - \u001b[0m\u001b[34mINFO\u001b[0m\u001b[38;5;243m - \u001b[0mStrategy using ignore_buying_expired_candle_after: 0\n"
      ]
     },
     "metadata": {},
     "output_type": "display_data"
    },
    {
     "data": {
      "text/html": [
       "<pre style=\"white-space:pre;overflow-x:auto;line-height:normal;font-family:Menlo,'DejaVu Sans Mono',consolas,'Courier New',monospace\">2025-06-08 13:18:13,761<span style=\"color: #767676; text-decoration-color: #767676\"> - </span><span style=\"color: #d787ff; text-decoration-color: #d787ff\">freqtrade.resolvers.strategy_resolver</span><span style=\"color: #767676; text-decoration-color: #767676\"> - </span><span style=\"color: #000080; text-decoration-color: #000080\">INFO</span><span style=\"color: #767676; text-decoration-color: #767676\"> - </span>Strategy using position_adjustment_enable: False\n",
       "</pre>\n"
      ],
      "text/plain": [
       "2025-06-08 13:18:13,761\u001b[38;5;243m - \u001b[0m\u001b[38;5;177mfreqtrade.resolvers.strategy_resolver\u001b[0m\u001b[38;5;243m - \u001b[0m\u001b[34mINFO\u001b[0m\u001b[38;5;243m - \u001b[0mStrategy using position_adjustment_enable: False\n"
      ]
     },
     "metadata": {},
     "output_type": "display_data"
    },
    {
     "data": {
      "text/html": [
       "<pre style=\"white-space:pre;overflow-x:auto;line-height:normal;font-family:Menlo,'DejaVu Sans Mono',consolas,'Courier New',monospace\">2025-06-08 13:18:13,765<span style=\"color: #767676; text-decoration-color: #767676\"> - </span><span style=\"color: #d787ff; text-decoration-color: #d787ff\">freqtrade.resolvers.strategy_resolver</span><span style=\"color: #767676; text-decoration-color: #767676\"> - </span><span style=\"color: #000080; text-decoration-color: #000080\">INFO</span><span style=\"color: #767676; text-decoration-color: #767676\"> - </span>Strategy using max_entry_position_adjustment: -1\n",
       "</pre>\n"
      ],
      "text/plain": [
       "2025-06-08 13:18:13,765\u001b[38;5;243m - \u001b[0m\u001b[38;5;177mfreqtrade.resolvers.strategy_resolver\u001b[0m\u001b[38;5;243m - \u001b[0m\u001b[34mINFO\u001b[0m\u001b[38;5;243m - \u001b[0mStrategy using max_entry_position_adjustment: -1\n"
      ]
     },
     "metadata": {},
     "output_type": "display_data"
    },
    {
     "data": {
      "text/html": [
       "<pre style=\"white-space:pre;overflow-x:auto;line-height:normal;font-family:Menlo,'DejaVu Sans Mono',consolas,'Courier New',monospace\">2025-06-08 13:18:13,767<span style=\"color: #767676; text-decoration-color: #767676\"> - </span><span style=\"color: #d787ff; text-decoration-color: #d787ff\">freqtrade.resolvers.strategy_resolver</span><span style=\"color: #767676; text-decoration-color: #767676\"> - </span><span style=\"color: #000080; text-decoration-color: #000080\">INFO</span><span style=\"color: #767676; text-decoration-color: #767676\"> - </span>Strategy using max_open_trades: inf\n",
       "</pre>\n"
      ],
      "text/plain": [
       "2025-06-08 13:18:13,767\u001b[38;5;243m - \u001b[0m\u001b[38;5;177mfreqtrade.resolvers.strategy_resolver\u001b[0m\u001b[38;5;243m - \u001b[0m\u001b[34mINFO\u001b[0m\u001b[38;5;243m - \u001b[0mStrategy using max_open_trades: inf\n"
      ]
     },
     "metadata": {},
     "output_type": "display_data"
    },
    {
     "ename": "ImportError",
     "evalue": "Short strategies cannot run in spot markets. Please make sure that this is the correct strategy and that your trading mode configuration is correct. You can run this strategy in spot markets by setting `can_short=False` in your strategy. Please note that short signals will be ignored in that case.",
     "output_type": "error",
     "traceback": [
      "\u001b[0;31m---------------------------------------------------------------------------\u001b[0m",
      "\u001b[0;31mImportError\u001b[0m                               Traceback (most recent call last)",
      "Cell \u001b[0;32mIn[25], line 6\u001b[0m\n\u001b[1;32m      2\u001b[0m \u001b[38;5;28;01mfrom\u001b[39;00m\u001b[38;5;250m \u001b[39m\u001b[38;5;21;01mfreqtrade\u001b[39;00m\u001b[38;5;21;01m.\u001b[39;00m\u001b[38;5;21;01mdata\u001b[39;00m\u001b[38;5;21;01m.\u001b[39;00m\u001b[38;5;21;01mdataprovider\u001b[39;00m\u001b[38;5;250m \u001b[39m\u001b[38;5;28;01mimport\u001b[39;00m DataProvider\n\u001b[1;32m      3\u001b[0m \u001b[38;5;28;01mfrom\u001b[39;00m\u001b[38;5;250m \u001b[39m\u001b[38;5;21;01mfreqtrade\u001b[39;00m\u001b[38;5;21;01m.\u001b[39;00m\u001b[38;5;21;01mresolvers\u001b[39;00m\u001b[38;5;250m \u001b[39m\u001b[38;5;28;01mimport\u001b[39;00m StrategyResolver\n\u001b[0;32m----> 6\u001b[0m strategy \u001b[38;5;241m=\u001b[39m \u001b[43mStrategyResolver\u001b[49m\u001b[38;5;241;43m.\u001b[39;49m\u001b[43mload_strategy\u001b[49m\u001b[43m(\u001b[49m\u001b[43mconfig\u001b[49m\u001b[43m)\u001b[49m\n\u001b[1;32m      7\u001b[0m strategy\u001b[38;5;241m.\u001b[39mdp \u001b[38;5;241m=\u001b[39m DataProvider(config, \u001b[38;5;28;01mNone\u001b[39;00m, \u001b[38;5;28;01mNone\u001b[39;00m)\n\u001b[1;32m      8\u001b[0m strategy\u001b[38;5;241m.\u001b[39mft_bot_start()\n",
      "File \u001b[0;32m/freqtrade/freqtrade/resolvers/strategy_resolver.py:94\u001b[0m, in \u001b[0;36mStrategyResolver.load_strategy\u001b[0;34m(config)\u001b[0m\n\u001b[1;32m     90\u001b[0m         logger\u001b[38;5;241m.\u001b[39minfo(\u001b[38;5;124m\"\u001b[39m\u001b[38;5;124mStrategy using \u001b[39m\u001b[38;5;132;01m%s\u001b[39;00m\u001b[38;5;124m: \u001b[39m\u001b[38;5;132;01m%s\u001b[39;00m\u001b[38;5;124m\"\u001b[39m, attribute, config[attribute])\n\u001b[1;32m     92\u001b[0m StrategyResolver\u001b[38;5;241m.\u001b[39m_normalize_attributes(strategy)\n\u001b[0;32m---> 94\u001b[0m \u001b[43mStrategyResolver\u001b[49m\u001b[38;5;241;43m.\u001b[39;49m\u001b[43m_strategy_sanity_validations\u001b[49m\u001b[43m(\u001b[49m\u001b[43mstrategy\u001b[49m\u001b[43m)\u001b[49m\n\u001b[1;32m     95\u001b[0m \u001b[38;5;28;01mreturn\u001b[39;00m strategy\n",
      "File \u001b[0;32m/freqtrade/freqtrade/resolvers/strategy_resolver.py:167\u001b[0m, in \u001b[0;36mStrategyResolver._strategy_sanity_validations\u001b[0;34m(strategy)\u001b[0m\n\u001b[1;32m    164\u001b[0m trading_mode \u001b[38;5;241m=\u001b[39m strategy\u001b[38;5;241m.\u001b[39mconfig\u001b[38;5;241m.\u001b[39mget(\u001b[38;5;124m\"\u001b[39m\u001b[38;5;124mtrading_mode\u001b[39m\u001b[38;5;124m\"\u001b[39m, TradingMode\u001b[38;5;241m.\u001b[39mSPOT)\n\u001b[1;32m    166\u001b[0m \u001b[38;5;28;01mif\u001b[39;00m strategy\u001b[38;5;241m.\u001b[39mcan_short \u001b[38;5;129;01mand\u001b[39;00m trading_mode \u001b[38;5;241m==\u001b[39m TradingMode\u001b[38;5;241m.\u001b[39mSPOT:\n\u001b[0;32m--> 167\u001b[0m     \u001b[38;5;28;01mraise\u001b[39;00m \u001b[38;5;167;01mImportError\u001b[39;00m(\n\u001b[1;32m    168\u001b[0m         \u001b[38;5;124m\"\u001b[39m\u001b[38;5;124mShort strategies cannot run in spot markets. Please make sure that this \u001b[39m\u001b[38;5;124m\"\u001b[39m\n\u001b[1;32m    169\u001b[0m         \u001b[38;5;124m\"\u001b[39m\u001b[38;5;124mis the correct strategy and that your trading mode configuration is correct. \u001b[39m\u001b[38;5;124m\"\u001b[39m\n\u001b[1;32m    170\u001b[0m         \u001b[38;5;124m\"\u001b[39m\u001b[38;5;124mYou can run this strategy in spot markets by setting `can_short=False`\u001b[39m\u001b[38;5;124m\"\u001b[39m\n\u001b[1;32m    171\u001b[0m         \u001b[38;5;124m\"\u001b[39m\u001b[38;5;124m in your strategy. Please note that short signals will be ignored in that case.\u001b[39m\u001b[38;5;124m\"\u001b[39m\n\u001b[1;32m    172\u001b[0m     )\n",
      "\u001b[0;31mImportError\u001b[0m: Short strategies cannot run in spot markets. Please make sure that this is the correct strategy and that your trading mode configuration is correct. You can run this strategy in spot markets by setting `can_short=False` in your strategy. Please note that short signals will be ignored in that case."
     ]
    }
   ],
   "source": [
    "# Load strategy using values set above\n",
    "from freqtrade.data.dataprovider import DataProvider\n",
    "from freqtrade.resolvers import StrategyResolver\n",
    "\n",
    "\n",
    "strategy = StrategyResolver.load_strategy(config)\n",
    "strategy.dp = DataProvider(config, None, None)\n",
    "strategy.ft_bot_start()\n",
    "\n",
    "# Generate buy/sell signals using strategy\n",
    "df = strategy.analyze_ticker(candles, {\"pair\": pair})\n",
    "df.tail()"
   ]
  },
  {
   "cell_type": "code",
   "execution_count": null,
   "id": "2dfb5f92-e85f-4129-8ffa-731ec8c719d3",
   "metadata": {},
   "outputs": [],
   "source": []
  }
 ],
 "metadata": {
  "kernelspec": {
   "display_name": "Python 3 (ipykernel)",
   "language": "python",
   "name": "python3"
  },
  "language_info": {
   "codemirror_mode": {
    "name": "ipython",
    "version": 3
   },
   "file_extension": ".py",
   "mimetype": "text/x-python",
   "name": "python",
   "nbconvert_exporter": "python",
   "pygments_lexer": "ipython3",
   "version": "3.13.4"
  }
 },
 "nbformat": 4,
 "nbformat_minor": 5
}
